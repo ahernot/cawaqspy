{
 "cells": [
  {
   "cell_type": "markdown",
   "metadata": {},
   "source": [
    "# 1. Notebook Setup"
   ]
  },
  {
   "cell_type": "code",
   "execution_count": 1,
   "metadata": {},
   "outputs": [],
   "source": [
    "import os\n",
    "if os.path.split(os.getcwd())[-1].lower() == 'notebooks':\n",
    "    os.chdir('..')"
   ]
  },
  {
   "cell_type": "markdown",
   "metadata": {},
   "source": [
    "# 2. Code"
   ]
  },
  {
   "cell_type": "code",
   "execution_count": 2,
   "metadata": {},
   "outputs": [
    {
     "name": "stderr",
     "output_type": "stream",
     "text": [
      "Application path not initialized\n",
      "Application path not initialized\n",
      "Application path not initialized\n",
      "Application path not initialized\n"
     ]
    }
   ],
   "source": [
    "from src.utils.calc_pbiases import calc_pbiases"
   ]
  },
  {
   "cell_type": "code",
   "execution_count": 3,
   "metadata": {},
   "outputs": [
    {
     "ename": "IndexError",
     "evalue": "list index out of range",
     "output_type": "error",
     "traceback": [
      "\u001b[0;31m---------------------------------------------------------------------------\u001b[0m",
      "\u001b[0;31mIndexError\u001b[0m                                Traceback (most recent call last)",
      "Cell \u001b[0;32mIn[3], line 1\u001b[0m\n\u001b[0;32m----> 1\u001b[0m \u001b[43mcalc_pbiases\u001b[49m\u001b[43m(\u001b[49m\u001b[43m)\u001b[49m\n",
      "File \u001b[0;32m~/Documents/cawaqspy/src/utils/calc_pbiases.py:75\u001b[0m, in \u001b[0;36mcalc_pbiases\u001b[0;34m(**kwargs)\u001b[0m\n\u001b[1;32m     72\u001b[0m config_geometry \u001b[38;5;241m=\u001b[39m ConfigGeometry\u001b[38;5;241m.\u001b[39mfromUnformattedDict(config_geometries_dict)\n\u001b[1;32m     74\u001b[0m \u001b[38;5;66;03m# Generate CaWaQSViz ExploreData instance    \u001b[39;00m\n\u001b[0;32m---> 75\u001b[0m exd \u001b[38;5;241m=\u001b[39m \u001b[43mExploreData\u001b[49m\u001b[43m(\u001b[49m\n\u001b[1;32m     76\u001b[0m \u001b[43m    \u001b[49m\u001b[43mids_compartments\u001b[49m\u001b[38;5;241;43m=\u001b[39;49m\u001b[43mconfig_geometry\u001b[49m\u001b[38;5;241;43m.\u001b[39;49m\u001b[43midCompartments\u001b[49m\u001b[43m,\u001b[49m\n\u001b[1;32m     77\u001b[0m \u001b[43m    \u001b[49m\u001b[43mconfig\u001b[49m\u001b[38;5;241;43m=\u001b[39;49m\u001b[43mconfig_geometry\u001b[49m\u001b[43m,\u001b[49m\n\u001b[1;32m     78\u001b[0m \u001b[43m    \u001b[49m\u001b[43mout_caw_directory\u001b[49m\u001b[38;5;241;43m=\u001b[39;49m\u001b[43mos\u001b[49m\u001b[38;5;241;43m.\u001b[39;49m\u001b[43mpath\u001b[49m\u001b[38;5;241;43m.\u001b[39;49m\u001b[43mjoin\u001b[49m\u001b[43m(\u001b[49m\u001b[43mdirpath_proj\u001b[49m\u001b[43m,\u001b[49m\u001b[43m \u001b[49m\u001b[43mDIRNAME_PROJ_ITER\u001b[49m\u001b[43m)\u001b[49m\u001b[43m,\u001b[49m\n\u001b[1;32m     79\u001b[0m \u001b[43m    \u001b[49m\u001b[43mobs_directory\u001b[49m\u001b[38;5;241;43m=\u001b[39;49m\u001b[43mDIRPATH_OBS\u001b[49m\u001b[43m,\u001b[49m\n\u001b[1;32m     80\u001b[0m \u001b[43m    \u001b[49m\u001b[43mpost_process_directory\u001b[49m\u001b[38;5;241;43m=\u001b[39;49m\u001b[43mdirpath_proj_postproc\u001b[49m\u001b[43m,\u001b[49m\n\u001b[1;32m     81\u001b[0m \u001b[43m    \u001b[49m\u001b[43ms_year\u001b[49m\u001b[38;5;241;43m=\u001b[39;49m\u001b[43mYEAR_START\u001b[49m\u001b[38;5;241;43m+\u001b[39;49m\u001b[38;5;241;43m1\u001b[39;49m\u001b[43m,\u001b[49m\u001b[43m  \u001b[49m\u001b[38;5;66;43;03m# TODO: start in 2006 (YEAR_START+1)\u001b[39;49;00m\n\u001b[1;32m     82\u001b[0m \u001b[43m    \u001b[49m\u001b[43me_year\u001b[49m\u001b[38;5;241;43m=\u001b[39;49m\u001b[43mYEAR_STOP\u001b[49m\n\u001b[1;32m     83\u001b[0m \u001b[43m\u001b[49m\u001b[43m)\u001b[49m\n\u001b[1;32m     85\u001b[0m \u001b[38;5;66;03m# Compute pbiases using CaWaQSViz\u001b[39;00m\n\u001b[1;32m     86\u001b[0m sc \u001b[38;5;241m=\u001b[39m StatisticalCriteria(exd\u001b[38;5;241m=\u001b[39mexd)\n",
      "File \u001b[0;32m~/Documents/cawaqspy/src/cawaqsviz_backend/ExploreData.py:17\u001b[0m, in \u001b[0;36mExploreData.__init__\u001b[0;34m(self, ids_compartments, config, out_caw_directory, obs_directory, post_process_directory, s_year, e_year)\u001b[0m\n\u001b[1;32m     15\u001b[0m \u001b[38;5;28mself\u001b[39m\u001b[38;5;241m.\u001b[39mids_compartments \u001b[38;5;241m=\u001b[39m ids_compartments\n\u001b[1;32m     16\u001b[0m \u001b[38;5;28mself\u001b[39m\u001b[38;5;241m.\u001b[39mconfig \u001b[38;5;241m=\u001b[39m config\n\u001b[0;32m---> 17\u001b[0m \u001b[38;5;28mself\u001b[39m\u001b[38;5;241m.\u001b[39mcompartments \u001b[38;5;241m=\u001b[39m \u001b[38;5;28;43mself\u001b[39;49m\u001b[38;5;241;43m.\u001b[39;49m\u001b[43mdefiniCompartments\u001b[49m\u001b[43m(\u001b[49m\u001b[43mids_compartments\u001b[49m\u001b[43m,\u001b[49m\u001b[43m \u001b[49m\u001b[43mconfig\u001b[49m\u001b[43m,\u001b[49m\u001b[43m \u001b[49m\u001b[43mout_caw_directory\u001b[49m\u001b[43m,\u001b[49m\u001b[43m \u001b[49m\u001b[43mobs_directory\u001b[49m\u001b[43m)\u001b[49m\n\u001b[1;32m     18\u001b[0m \u001b[38;5;28mself\u001b[39m\u001b[38;5;241m.\u001b[39mpost_process_directory \u001b[38;5;241m=\u001b[39m post_process_directory\n\u001b[1;32m     19\u001b[0m \u001b[38;5;28mself\u001b[39m\u001b[38;5;241m.\u001b[39mtemp_directory \u001b[38;5;241m=\u001b[39m post_process_directory \u001b[38;5;241m+\u001b[39m sep \u001b[38;5;241m+\u001b[39m \u001b[38;5;124m'\u001b[39m\u001b[38;5;124mTEMP\u001b[39m\u001b[38;5;124m'\u001b[39m\n",
      "File \u001b[0;32m~/Documents/cawaqspy/src/cawaqsviz_backend/ExploreData.py:41\u001b[0m, in \u001b[0;36mExploreData.definiCompartments\u001b[0;34m(self, ids_compartments, config, out_caw_directory, obs_directory)\u001b[0m\n\u001b[1;32m     38\u001b[0m compartments \u001b[38;5;241m=\u001b[39m {}\n\u001b[1;32m     40\u001b[0m \u001b[38;5;28;01mfor\u001b[39;00m id_c \u001b[38;5;129;01min\u001b[39;00m ids_compartments : \n\u001b[0;32m---> 41\u001b[0m     compartments[id_c] \u001b[38;5;241m=\u001b[39m \u001b[43mCompartment\u001b[49m\u001b[43m(\u001b[49m\u001b[43mid_c\u001b[49m\u001b[43m,\u001b[49m\u001b[43m \u001b[49m\u001b[43mconfig\u001b[49m\u001b[43m,\u001b[49m\u001b[43m \u001b[49m\u001b[43mout_caw_directory\u001b[49m\u001b[43m,\u001b[49m\u001b[43m \u001b[49m\u001b[43mobs_directory\u001b[49m\u001b[43m)\u001b[49m\n\u001b[1;32m     43\u001b[0m \u001b[38;5;28;01mreturn\u001b[39;00m compartments\n",
      "File \u001b[0;32m~/Documents/cawaqspy/src/cawaqsviz_backend/Compartment.py:27\u001b[0m, in \u001b[0;36mCompartment.__init__\u001b[0;34m(self, id_compartment, config, out_caw_directory, obs_directory, verbose)\u001b[0m\n\u001b[1;32m     25\u001b[0m \u001b[38;5;28mself\u001b[39m\u001b[38;5;241m.\u001b[39mout_caw_directory \u001b[38;5;241m=\u001b[39m out_caw_directory\n\u001b[1;32m     26\u001b[0m \u001b[38;5;28mself\u001b[39m\u001b[38;5;241m.\u001b[39mout_caw_path \u001b[38;5;241m=\u001b[39m \u001b[38;5;28mself\u001b[39m\u001b[38;5;241m.\u001b[39mdefineOutCawPath(out_caw_directory, id_compartment)\n\u001b[0;32m---> 27\u001b[0m \u001b[38;5;28mself\u001b[39m\u001b[38;5;241m.\u001b[39mmesh \u001b[38;5;241m=\u001b[39m \u001b[38;5;28;43mself\u001b[39;49m\u001b[38;5;241;43m.\u001b[39;49m\u001b[43mdefineMeshCompartment\u001b[49m\u001b[43m(\u001b[49m\u001b[43mid_compartment\u001b[49m\u001b[43m,\u001b[49m\u001b[43m \u001b[49m\u001b[43mconfig\u001b[49m\u001b[43m)\u001b[49m\n\u001b[1;32m     28\u001b[0m \u001b[38;5;28mself\u001b[39m\u001b[38;5;241m.\u001b[39mobs_path \u001b[38;5;241m=\u001b[39m obs_directory\n\u001b[1;32m     29\u001b[0m \u001b[38;5;28mself\u001b[39m\u001b[38;5;241m.\u001b[39mobs \u001b[38;5;241m=\u001b[39m \u001b[38;5;28mself\u001b[39m\u001b[38;5;241m.\u001b[39mdefineObsCompartment(id_compartment, config)\n",
      "File \u001b[0;32m~/Documents/cawaqspy/src/cawaqsviz_backend/Compartment.py:74\u001b[0m, in \u001b[0;36mCompartment.defineMeshCompartment\u001b[0;34m(self, id_compartment, config)\u001b[0m\n\u001b[1;32m     73\u001b[0m \u001b[38;5;28;01mdef\u001b[39;00m \u001b[38;5;21mdefineMeshCompartment\u001b[39m(\u001b[38;5;28mself\u001b[39m, id_compartment, config):     \n\u001b[0;32m---> 74\u001b[0m     \u001b[38;5;28;01mreturn\u001b[39;00m \u001b[43mMesh\u001b[49m\u001b[43m(\u001b[49m\u001b[43mid_compartment\u001b[49m\u001b[43m,\u001b[49m\u001b[43m \u001b[49m\u001b[38;5;28;43mself\u001b[39;49m\u001b[38;5;241;43m.\u001b[39;49m\u001b[43mlayers_gis_names\u001b[49m\u001b[43m,\u001b[49m\u001b[43m \u001b[49m\u001b[43mconfig\u001b[49m\u001b[43m,\u001b[49m\u001b[43m \u001b[49m\u001b[38;5;28;43mself\u001b[39;49m\u001b[38;5;241;43m.\u001b[39;49m\u001b[43mout_caw_directory\u001b[49m\u001b[43m)\u001b[49m\n",
      "File \u001b[0;32m~/Documents/cawaqspy/src/cawaqsviz_backend/Mesh.py:28\u001b[0m, in \u001b[0;36mMesh.__init__\u001b[0;34m(self, id_compartment, layers_gis_name, config, out_caw_directory, verbose)\u001b[0m\n\u001b[1;32m     26\u001b[0m \u001b[38;5;28mself\u001b[39m\u001b[38;5;241m.\u001b[39mconfig \u001b[38;5;241m=\u001b[39m config\n\u001b[1;32m     27\u001b[0m \u001b[38;5;28mself\u001b[39m\u001b[38;5;241m.\u001b[39mout_caw_directory \u001b[38;5;241m=\u001b[39m out_caw_directory\n\u001b[0;32m---> 28\u001b[0m \u001b[38;5;28mself\u001b[39m\u001b[38;5;241m.\u001b[39mmesh\u001b[38;5;241m=\u001b[39m \u001b[38;5;28;43mself\u001b[39;49m\u001b[38;5;241;43m.\u001b[39;49m\u001b[43mGetMesh\u001b[49m\u001b[43m(\u001b[49m\u001b[43m)\u001b[49m\n",
      "File \u001b[0;32m~/Documents/cawaqspy/src/cawaqsviz_backend/Mesh.py:101\u001b[0m, in \u001b[0;36mMesh.GetMesh\u001b[0;34m(self)\u001b[0m\n\u001b[1;32m     98\u001b[0m layers \u001b[38;5;241m=\u001b[39m {}\n\u001b[1;32m    100\u001b[0m \u001b[38;5;28;01mfor\u001b[39;00m id_layer, layer_gis_name \u001b[38;5;129;01min\u001b[39;00m \u001b[38;5;28menumerate\u001b[39m(\u001b[38;5;28mself\u001b[39m\u001b[38;5;241m.\u001b[39mlayers_gis_name) :\n\u001b[0;32m--> 101\u001b[0m     layers[id_layer] \u001b[38;5;241m=\u001b[39m \u001b[38;5;28;43mself\u001b[39;49m\u001b[38;5;241;43m.\u001b[39;49m\u001b[43mLayer\u001b[49m\u001b[43m(\u001b[49m\u001b[38;5;28;43mself\u001b[39;49m\u001b[38;5;241;43m.\u001b[39;49m\u001b[43mid_compartment\u001b[49m\u001b[43m,\u001b[49m\u001b[43m \u001b[49m\u001b[43mlayer_gis_name\u001b[49m\u001b[43m,\u001b[49m\u001b[43m \u001b[49m\u001b[38;5;28;43mself\u001b[39;49m\u001b[38;5;241;43m.\u001b[39;49m\u001b[43mconfig\u001b[49m\u001b[43m,\u001b[49m\u001b[43m \u001b[49m\u001b[38;5;28;43mself\u001b[39;49m\u001b[38;5;241;43m.\u001b[39;49m\u001b[43mout_caw_directory\u001b[49m\u001b[43m)\u001b[49m\n\u001b[1;32m    102\u001b[0m \u001b[38;5;28;01mreturn\u001b[39;00m layers\n",
      "File \u001b[0;32m~/Documents/cawaqspy/src/cawaqsviz_backend/Mesh.py:38\u001b[0m, in \u001b[0;36mMesh.Layer.__init__\u001b[0;34m(self, id_compartment, layer_gis_name, config, out_caw_directory)\u001b[0m\n\u001b[1;32m     36\u001b[0m \u001b[38;5;28mself\u001b[39m\u001b[38;5;241m.\u001b[39mid_compartment \u001b[38;5;241m=\u001b[39m id_compartment\n\u001b[1;32m     37\u001b[0m \u001b[38;5;28mself\u001b[39m\u001b[38;5;241m.\u001b[39mout_caw_directory \u001b[38;5;241m=\u001b[39m out_caw_directory\n\u001b[0;32m---> 38\u001b[0m \u001b[38;5;28mself\u001b[39m\u001b[38;5;241m.\u001b[39mlayer \u001b[38;5;241m=\u001b[39m \u001b[38;5;28;43mself\u001b[39;49m\u001b[38;5;241;43m.\u001b[39;49m\u001b[43mbuildLayer\u001b[49m\u001b[43m(\u001b[49m\u001b[43mlayer_gis_name\u001b[49m\u001b[43m,\u001b[49m\u001b[43m \u001b[49m\u001b[43mconfig\u001b[49m\u001b[43m)\u001b[49m\n\u001b[1;32m     39\u001b[0m \u001b[38;5;28mself\u001b[39m\u001b[38;5;241m.\u001b[39mncells \u001b[38;5;241m=\u001b[39m \u001b[38;5;28mlen\u001b[39m(\u001b[38;5;28mself\u001b[39m\u001b[38;5;241m.\u001b[39mlayer)\n",
      "File \u001b[0;32m~/Documents/cawaqspy/src/cawaqsviz_backend/Mesh.py:55\u001b[0m, in \u001b[0;36mMesh.Layer.buildLayer\u001b[0;34m(self, layer_gis_name, config, verbose)\u001b[0m\n\u001b[1;32m     54\u001b[0m \u001b[38;5;28;01mdef\u001b[39;00m \u001b[38;5;21mbuildLayer\u001b[39m(\u001b[38;5;28mself\u001b[39m, layer_gis_name, config, verbose\u001b[38;5;241m=\u001b[39m\u001b[38;5;28;01mFalse\u001b[39;00m):\n\u001b[0;32m---> 55\u001b[0m     gis_layer \u001b[38;5;241m=\u001b[39m \u001b[43mQGS_PROJECT\u001b[49m\u001b[38;5;241;43m.\u001b[39;49m\u001b[43mmapLayersByName\u001b[49m\u001b[43m(\u001b[49m\u001b[43mlayer_gis_name\u001b[49m\u001b[43m)\u001b[49m\u001b[43m[\u001b[49m\u001b[38;5;241;43m0\u001b[39;49m\u001b[43m]\u001b[49m\n\u001b[1;32m     56\u001b[0m     n_col \u001b[38;5;241m=\u001b[39m \u001b[38;5;28mint\u001b[39m(config\u001b[38;5;241m.\u001b[39midColCells[\u001b[38;5;28mself\u001b[39m\u001b[38;5;241m.\u001b[39mid_compartment])\n\u001b[1;32m     58\u001b[0m     layer \u001b[38;5;241m=\u001b[39m []\n",
      "\u001b[0;31mIndexError\u001b[0m: list index out of range"
     ]
    }
   ],
   "source": [
    "calc_pbiases()"
   ]
  },
  {
   "cell_type": "code",
   "execution_count": null,
   "metadata": {},
   "outputs": [],
   "source": []
  }
 ],
 "metadata": {
  "kernelspec": {
   "display_name": "Python 3",
   "language": "python",
   "name": "python3"
  },
  "language_info": {
   "codemirror_mode": {
    "name": "ipython",
    "version": 3
   },
   "file_extension": ".py",
   "mimetype": "text/x-python",
   "name": "python",
   "nbconvert_exporter": "python",
   "pygments_lexer": "ipython3",
   "version": "3.10.12"
  }
 },
 "nbformat": 4,
 "nbformat_minor": 2
}
