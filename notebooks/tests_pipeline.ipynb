{
 "cells": [
  {
   "cell_type": "markdown",
   "metadata": {},
   "source": [
    "# 1. Notebook Setup"
   ]
  },
  {
   "cell_type": "code",
   "execution_count": 4,
   "metadata": {},
   "outputs": [],
   "source": [
    "import os\n",
    "if os.path.split(os.getcwd())[-1].lower() == 'notebooks':\n",
    "    os.chdir('..')"
   ]
  },
  {
   "cell_type": "markdown",
   "metadata": {},
   "source": [
    "# 2. Code"
   ]
  },
  {
   "cell_type": "code",
   "execution_count": 5,
   "metadata": {},
   "outputs": [],
   "source": [
    "from src.utils.calc_pbiases import calc_pbiases"
   ]
  },
  {
   "cell_type": "code",
   "execution_count": 10,
   "metadata": {},
   "outputs": [],
   "source": [
    "out = calc_pbiases(dirname_proj='Project', run_cawaqs=False, verbose=False)"
   ]
  },
  {
   "cell_type": "code",
   "execution_count": 11,
   "metadata": {},
   "outputs": [
    {
     "data": {
      "text/plain": [
       "{'L-Aube-a-Bar-sur-Aube': {'AObs': 15.98105572555967,\n",
       "  'ASim': 7.595939046409576,\n",
       "  'StdObs': 19.804997311928176,\n",
       "  'StdSim': 14.576529500519387,\n",
       "  'PBIAS': -52.469103563284406},\n",
       " 'L-Yonne-a-Pont-sur-Yonne': {'AObs': 89.17842555020633,\n",
       "  'ASim': 46.8236798370334,\n",
       "  'StdObs': 84.57429370846309,\n",
       "  'StdSim': 65.19116658154734,\n",
       "  'PBIAS': -47.294236851133384},\n",
       " 'Le-Loing-a-Episy': {'AObs': 18.83241649218876,\n",
       "  'ASim': 2.9432137644496135,\n",
       "  'StdObs': 18.992663815018066,\n",
       "  'StdSim': 4.9689953025837355,\n",
       "  'PBIAS': -84.3715554736675},\n",
       " 'La-Seine-a-Bazoches-les-Bray-station-ultrason': {'AObs': 69.66813950701814,\n",
       "  'ASim': 25.906999425094988,\n",
       "  'StdObs': 60.06322758808191,\n",
       "  'StdSim': 47.045513122491116,\n",
       "  'PBIAS': -62.904344412643724},\n",
       " 'La-Seine-a-Mery-sur-Seine-apres-creation-grands-lacs': {'AObs': 31.171951521984216,\n",
       "  'ASim': 12.669902956593791,\n",
       "  'StdObs': 24.77054503041112,\n",
       "  'StdSim': 24.567975098114033,\n",
       "  'PBIAS': -59.35479705959936},\n",
       " 'L-Essonne-a-Ballancourt-sur-Essonne': {'AObs': 8.060081800887762,\n",
       "  'ASim': 0.3296491938058383,\n",
       "  'StdObs': 2.012789972326935,\n",
       "  'StdSim': 0.9289497593696453,\n",
       "  'PBIAS': -94.16612632566205},\n",
       " 'La-Seine-a-Saint-Fargeau-Ponthierry-Sainte-Assise': {'AObs': 197.77595876952807,\n",
       "  'ASim': 76.79296209800404,\n",
       "  'StdObs': 158.57570864453112,\n",
       "  'StdSim': 114.35666164911116,\n",
       "  'PBIAS': -61.171740703078946},\n",
       " 'La-Marne-a-Frignicourt-apres-creation-grand-lac': {'AObs': 42.74832710581414,\n",
       "  'ASim': 19.506519881046327,\n",
       "  'StdObs': 37.12245119036678,\n",
       "  'StdSim': 35.48388842023318,\n",
       "  'PBIAS': -54.36892809217494},\n",
       " 'La-Marne-a-Creteil-Passerelle': {'AObs': 99.1911678594665,\n",
       "  'ASim': 38.97270958899499,\n",
       "  'StdObs': 91.03717970626366,\n",
       "  'StdSim': 60.188497831184456,\n",
       "  'PBIAS': -56.97998649019026},\n",
       " 'La-Seine-a-Paris-Austerlitz-apres-creation-lacs': {'AObs': 305.50126027397255,\n",
       "  'ASim': 119.1489086441174,\n",
       "  'StdObs': 238.1277375152821,\n",
       "  'StdSim': 174.49048376647124,\n",
       "  'PBIAS': -60.98476618973982},\n",
       " 'La-Marne-a-Gournay-sur-Marne': {'AObs': 103.52872459333226,\n",
       "  'ASim': 38.59079494430667,\n",
       "  'StdObs': 84.43604986369365,\n",
       "  'StdSim': 59.834286922450325,\n",
       "  'PBIAS': -62.72455292394079},\n",
       " 'La-Marne-a-Cholons-sur-Marne-depuis-02-89': {'AObs': 69.62290676863,\n",
       "  'ASim': 33.4627802309122,\n",
       "  'StdObs': 68.26069438201891,\n",
       "  'StdSim': 57.39138109305535,\n",
       "  'PBIAS': -51.454221304095284},\n",
       " 'La-Seine-a-Vernon': {'AObs': 459.4391081037539,\n",
       "  'ASim': 152.34873765825424,\n",
       "  'StdObs': 319.81861856262384,\n",
       "  'StdSim': 212.468833665809,\n",
       "  'PBIAS': -66.83129666148831},\n",
       " 'L-Oise-a-Creil': {'AObs': 100.25915544458763,\n",
       "  'ASim': 25.718390256228098,\n",
       "  'StdObs': 71.88391480303024,\n",
       "  'StdSim': 34.87687822685132,\n",
       "  'PBIAS': -74.3445700846816},\n",
       " 'L-Aisne-a-Mouron': {'AObs': 24.104700595909165,\n",
       "  'ASim': 9.328571714208394,\n",
       "  'StdObs': 29.310262208097456,\n",
       "  'StdSim': 17.989523787921907,\n",
       "  'PBIAS': -61.29978185337196},\n",
       " 'L-Aisne-a-Soissons-Le-mail--station-US-': {'AObs': 55.50812325349301,\n",
       "  'ASim': 13.884860361571377,\n",
       "  'StdObs': 45.92888356532844,\n",
       "  'StdSim': 22.71986021315749,\n",
       "  'PBIAS': -75.54396019195224},\n",
       " 'L-Oise-a-Sempigny': {'AObs': 31.038256645722573,\n",
       "  'ASim': 10.276107004866022,\n",
       "  'StdObs': 24.275868007953466,\n",
       "  'StdSim': 11.727366990295986,\n",
       "  'PBIAS': -66.88796541408409}}"
      ]
     },
     "execution_count": 11,
     "metadata": {},
     "output_type": "execute_result"
    }
   ],
   "source": [
    "out"
   ]
  },
  {
   "cell_type": "code",
   "execution_count": null,
   "metadata": {},
   "outputs": [],
   "source": []
  }
 ],
 "metadata": {
  "kernelspec": {
   "display_name": "Python 3",
   "language": "python",
   "name": "python3"
  },
  "language_info": {
   "codemirror_mode": {
    "name": "ipython",
    "version": 3
   },
   "file_extension": ".py",
   "mimetype": "text/x-python",
   "name": "python",
   "nbconvert_exporter": "python",
   "pygments_lexer": "ipython3",
   "version": "3.10.12"
  }
 },
 "nbformat": 4,
 "nbformat_minor": 2
}
