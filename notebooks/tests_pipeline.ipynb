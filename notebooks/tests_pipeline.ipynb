{
 "cells": [
  {
   "cell_type": "markdown",
   "metadata": {},
   "source": [
    "# 1. Notebook Setup"
   ]
  },
  {
   "cell_type": "code",
   "execution_count": 1,
   "metadata": {},
   "outputs": [],
   "source": [
    "# /bin/python3 -m pip install pandas hydroeval\n",
    "\n",
    "import os\n",
    "if os.path.split(os.getcwd())[-1].lower() == 'notebooks':\n",
    "    os.chdir('..')"
   ]
  },
  {
   "cell_type": "markdown",
   "metadata": {},
   "source": [
    "# 2. Code"
   ]
  },
  {
   "cell_type": "code",
   "execution_count": 2,
   "metadata": {},
   "outputs": [
    {
     "name": "stderr",
     "output_type": "stream",
     "text": [
      "qt.qpa.plugin: Could not find the Qt platform plugin \"wayland\" in \"/usr/lib/aarch64-linux-gnu/qt5/plugins/platforms\"\n",
      "proj_create: Error 1029 (File not found or invalid): pipeline: Pipeline: Bad step definition: inv (File not found or invalid)\n"
     ]
    }
   ],
   "source": [
    "from src.utils.calc_stats import calc_stats"
   ]
  },
  {
   "cell_type": "code",
   "execution_count": 3,
   "metadata": {},
   "outputs": [
    {
     "name": "stdout",
     "output_type": "stream",
     "text": [
      "Saved geometries config file in \"/home/anatole/Documents/DATA_CAWAQS_OUT/Project_2_1/config_geometries_project.json\"\n",
      "Saved project config file in \"/home/anatole/Documents/DATA_CAWAQS_OUT/Project_2_1/config_project_project.json\"\n",
      "\n",
      "BSS000LLTT : Villeron (linked to cell 37 of layer 0 of mesh 1) 0 37\n",
      "\n",
      "Compartment AQ :             \n",
      "\t→ CaWaQS Outputs directory : /home/anatole/Documents/DATA_CAWAQS_OUT/Project_2_1/RUN_CAL_1/Output_AQ/             \n",
      "\t→ Meshes : ['AQ_GRID_TERT', 'AQ_GRID_CRAI', 'AQ_GRID_JURA'] : {0: Layer count 2865 cells, 1: Layer count 3851 cells, 2: Layer count 2658 cells}            \n",
      "\t→ Observations : 22 Piezometer(s)             \n",
      "\t→ Observation path : /home/anatole/Documents/DATA_CAWAQS/SEINE_3C/DATA_OBS/TS_OBS_PIEZO\n",
      "(2865, 6209)\n",
      "\n",
      "BSS000RTKT : Saint-Hilliers (linked to cell 71 of layer 0 of mesh 1) 0 71\n",
      "\n",
      "Compartment AQ :             \n",
      "\t→ CaWaQS Outputs directory : /home/anatole/Documents/DATA_CAWAQS_OUT/Project_2_1/RUN_CAL_1/Output_AQ/             \n",
      "\t→ Meshes : ['AQ_GRID_TERT', 'AQ_GRID_CRAI', 'AQ_GRID_JURA'] : {0: Layer count 2865 cells, 1: Layer count 3851 cells, 2: Layer count 2658 cells}            \n",
      "\t→ Observations : 22 Piezometer(s)             \n",
      "\t→ Observation path : /home/anatole/Documents/DATA_CAWAQS/SEINE_3C/DATA_OBS/TS_OBS_PIEZO\n",
      "(2865, 6209)\n",
      "\n",
      "BSS000FWJZ : Cessieres (linked to cell 201 of layer 0 of mesh 1) 0 201\n",
      "\n",
      "Compartment AQ :             \n",
      "\t→ CaWaQS Outputs directory : /home/anatole/Documents/DATA_CAWAQS_OUT/Project_2_1/RUN_CAL_1/Output_AQ/             \n",
      "\t→ Meshes : ['AQ_GRID_TERT', 'AQ_GRID_CRAI', 'AQ_GRID_JURA'] : {0: Layer count 2865 cells, 1: Layer count 3851 cells, 2: Layer count 2658 cells}            \n",
      "\t→ Observations : 22 Piezometer(s)             \n",
      "\t→ Observation path : /home/anatole/Documents/DATA_CAWAQS/SEINE_3C/DATA_OBS/TS_OBS_PIEZO\n",
      "(2865, 6209)\n",
      "\n",
      "BSS000WDEW : Fontainebleau (linked to cell 325 of layer 0 of mesh 1) 0 325\n",
      "\n",
      "Compartment AQ :             \n",
      "\t→ CaWaQS Outputs directory : /home/anatole/Documents/DATA_CAWAQS_OUT/Project_2_1/RUN_CAL_1/Output_AQ/             \n",
      "\t→ Meshes : ['AQ_GRID_TERT', 'AQ_GRID_CRAI', 'AQ_GRID_JURA'] : {0: Layer count 2865 cells, 1: Layer count 3851 cells, 2: Layer count 2658 cells}            \n",
      "\t→ Observations : 22 Piezometer(s)             \n",
      "\t→ Observation path : /home/anatole/Documents/DATA_CAWAQS/SEINE_3C/DATA_OBS/TS_OBS_PIEZO\n",
      "(2865, 6209)\n",
      "\n",
      "BSS000LNRG : Penchard (linked to cell 454 of layer 0 of mesh 1) 0 454\n",
      "\n",
      "Compartment AQ :             \n",
      "\t→ CaWaQS Outputs directory : /home/anatole/Documents/DATA_CAWAQS_OUT/Project_2_1/RUN_CAL_1/Output_AQ/             \n",
      "\t→ Meshes : ['AQ_GRID_TERT', 'AQ_GRID_CRAI', 'AQ_GRID_JURA'] : {0: Layer count 2865 cells, 1: Layer count 3851 cells, 2: Layer count 2658 cells}            \n",
      "\t→ Observations : 22 Piezometer(s)             \n",
      "\t→ Observation path : /home/anatole/Documents/DATA_CAWAQS/SEINE_3C/DATA_OBS/TS_OBS_PIEZO\n",
      "(2865, 6209)\n",
      "\n",
      "BSS000JVRW : Precy-Sur-Oise (linked to cell 1085 of layer 0 of mesh 1) 0 1085\n",
      "\n",
      "Compartment AQ :             \n",
      "\t→ CaWaQS Outputs directory : /home/anatole/Documents/DATA_CAWAQS_OUT/Project_2_1/RUN_CAL_1/Output_AQ/             \n",
      "\t→ Meshes : ['AQ_GRID_TERT', 'AQ_GRID_CRAI', 'AQ_GRID_JURA'] : {0: Layer count 2865 cells, 1: Layer count 3851 cells, 2: Layer count 2658 cells}            \n",
      "\t→ Observations : 22 Piezometer(s)             \n",
      "\t→ Observation path : /home/anatole/Documents/DATA_CAWAQS/SEINE_3C/DATA_OBS/TS_OBS_PIEZO\n",
      "(2865, 6209)\n",
      "\n",
      "BSS000FUDK : Varesnes (linked to cell 1624 of layer 0 of mesh 1) 0 1624\n",
      "\n",
      "Compartment AQ :             \n",
      "\t→ CaWaQS Outputs directory : /home/anatole/Documents/DATA_CAWAQS_OUT/Project_2_1/RUN_CAL_1/Output_AQ/             \n",
      "\t→ Meshes : ['AQ_GRID_TERT', 'AQ_GRID_CRAI', 'AQ_GRID_JURA'] : {0: Layer count 2865 cells, 1: Layer count 3851 cells, 2: Layer count 2658 cells}            \n",
      "\t→ Observations : 22 Piezometer(s)             \n",
      "\t→ Observation path : /home/anatole/Documents/DATA_CAWAQS/SEINE_3C/DATA_OBS/TS_OBS_PIEZO\n",
      "(2865, 6209)\n",
      "\n",
      "BSS000PNJV : Roissy-En-Brie (linked to cell 2482 of layer 0 of mesh 1) 0 2482\n",
      "\n",
      "Compartment AQ :             \n",
      "\t→ CaWaQS Outputs directory : /home/anatole/Documents/DATA_CAWAQS_OUT/Project_2_1/RUN_CAL_1/Output_AQ/             \n",
      "\t→ Meshes : ['AQ_GRID_TERT', 'AQ_GRID_CRAI', 'AQ_GRID_JURA'] : {0: Layer count 2865 cells, 1: Layer count 3851 cells, 2: Layer count 2658 cells}            \n",
      "\t→ Observations : 22 Piezometer(s)             \n",
      "\t→ Observation path : /home/anatole/Documents/DATA_CAWAQS/SEINE_3C/DATA_OBS/TS_OBS_PIEZO\n",
      "(2865, 6209)\n",
      "\n",
      "BSS000TZVX : Savigny-Le-Temple (linked to cell 2510 of layer 0 of mesh 1) 0 2510\n",
      "\n",
      "Compartment AQ :             \n",
      "\t→ CaWaQS Outputs directory : /home/anatole/Documents/DATA_CAWAQS_OUT/Project_2_1/RUN_CAL_1/Output_AQ/             \n",
      "\t→ Meshes : ['AQ_GRID_TERT', 'AQ_GRID_CRAI', 'AQ_GRID_JURA'] : {0: Layer count 2865 cells, 1: Layer count 3851 cells, 2: Layer count 2658 cells}            \n",
      "\t→ Observations : 22 Piezometer(s)             \n",
      "\t→ Observation path : /home/anatole/Documents/DATA_CAWAQS/SEINE_3C/DATA_OBS/TS_OBS_PIEZO\n",
      "(2865, 6209)\n",
      "\n",
      "BSS000HLVW : Semide (linked to cell 3089 of layer 1 of mesh 1) 1 3089\n",
      "\n",
      "Compartment AQ :             \n",
      "\t→ CaWaQS Outputs directory : /home/anatole/Documents/DATA_CAWAQS_OUT/Project_2_1/RUN_CAL_1/Output_AQ/             \n",
      "\t→ Meshes : ['AQ_GRID_TERT', 'AQ_GRID_CRAI', 'AQ_GRID_JURA'] : {0: Layer count 2865 cells, 1: Layer count 3851 cells, 2: Layer count 2658 cells}            \n",
      "\t→ Observations : 22 Piezometer(s)             \n",
      "\t→ Observation path : /home/anatole/Documents/DATA_CAWAQS/SEINE_3C/DATA_OBS/TS_OBS_PIEZO\n",
      "(2865, 6209)\n"
     ]
    },
    {
     "ename": "IndexError",
     "evalue": "index 3088 is out of bounds for axis 0 with size 2865",
     "output_type": "error",
     "traceback": [
      "\u001b[0;31m---------------------------------------------------------------------------\u001b[0m",
      "\u001b[0;31mIndexError\u001b[0m                                Traceback (most recent call last)",
      "Cell \u001b[0;32mIn[3], line 1\u001b[0m\n\u001b[0;32m----> 1\u001b[0m out \u001b[38;5;241m=\u001b[39m \u001b[43mcalc_stats\u001b[49m\u001b[43m(\u001b[49m\u001b[43mproj_name\u001b[49m\u001b[38;5;241;43m=\u001b[39;49m\u001b[38;5;124;43m'\u001b[39;49m\u001b[38;5;124;43mProject_2_1\u001b[39;49m\u001b[38;5;124;43m'\u001b[39;49m\u001b[43m,\u001b[49m\u001b[43m \u001b[49m\u001b[43mobstype\u001b[49m\u001b[38;5;241;43m=\u001b[39;49m\u001b[38;5;124;43m'\u001b[39;49m\u001b[38;5;124;43mHydraulic Head\u001b[39;49m\u001b[38;5;124;43m'\u001b[39;49m\u001b[43m,\u001b[49m\u001b[43m \u001b[49m\u001b[43mrun_cawaqs\u001b[49m\u001b[38;5;241;43m=\u001b[39;49m\u001b[38;5;28;43;01mFalse\u001b[39;49;00m\u001b[43m,\u001b[49m\u001b[43m \u001b[49m\u001b[43mverbose\u001b[49m\u001b[38;5;241;43m=\u001b[39;49m\u001b[38;5;28;43;01mTrue\u001b[39;49;00m\u001b[43m)\u001b[49m\n",
      "File \u001b[0;32m~/Documents/cawaqspy/src/utils/calc_stats.py:128\u001b[0m, in \u001b[0;36mcalc_stats\u001b[0;34m(proj_name, obstype, **kwargs)\u001b[0m\n\u001b[1;32m    126\u001b[0m \u001b[38;5;66;03m# Compute pbiases using CaWaQSViz\u001b[39;00m\n\u001b[1;32m    127\u001b[0m sc \u001b[38;5;241m=\u001b[39m StatisticalCriteria(exd\u001b[38;5;241m=\u001b[39mexd, obstype\u001b[38;5;241m=\u001b[39mobstype, unit\u001b[38;5;241m=\u001b[39m\u001b[38;5;124m'\u001b[39m\u001b[38;5;124ml/s\u001b[39m\u001b[38;5;124m'\u001b[39m)\n\u001b[0;32m--> 128\u001b[0m stats_dict \u001b[38;5;241m=\u001b[39m \u001b[43msc\u001b[49m\u001b[38;5;241;43m.\u001b[39;49m\u001b[43mrun\u001b[49m\u001b[43m(\u001b[49m\u001b[43m)\u001b[49m\n\u001b[1;32m    130\u001b[0m \u001b[38;5;66;03m# Save pbiases\u001b[39;00m\n\u001b[1;32m    131\u001b[0m save \u001b[38;5;241m=\u001b[39m kwargs\u001b[38;5;241m.\u001b[39mget(\u001b[38;5;124m'\u001b[39m\u001b[38;5;124msave\u001b[39m\u001b[38;5;124m'\u001b[39m, \u001b[38;5;28;01mTrue\u001b[39;00m)\n",
      "File \u001b[0;32m~/Documents/cawaqspy/src/cawaqsviz_backend/StatisticalCriteria.py:32\u001b[0m, in \u001b[0;36mStatisticalCriteria.run\u001b[0;34m(self, verbose)\u001b[0m\n\u001b[1;32m     29\u001b[0m \u001b[38;5;28;01mfor\u001b[39;00m obs_point \u001b[38;5;129;01min\u001b[39;00m compartment\u001b[38;5;241m.\u001b[39mobs\u001b[38;5;241m.\u001b[39mobs_points:\n\u001b[1;32m     31\u001b[0m     \u001b[38;5;28;01mif\u001b[39;00m verbose: \u001b[38;5;28mprint\u001b[39m(\u001b[38;5;124mf\u001b[39m\u001b[38;5;124m'\u001b[39m\u001b[38;5;130;01m\\n\u001b[39;00m\u001b[38;5;124mObservation name point \u001b[39m\u001b[38;5;132;01m{\u001b[39;00mobs_point\u001b[38;5;241m.\u001b[39mname\u001b[38;5;132;01m}\u001b[39;00m\u001b[38;5;124m'\u001b[39m)\n\u001b[0;32m---> 32\u001b[0m     simobsdf \u001b[38;5;241m=\u001b[39m \u001b[38;5;28;43mself\u001b[39;49m\u001b[38;5;241;43m.\u001b[39;49m\u001b[43mexd\u001b[49m\u001b[38;5;241;43m.\u001b[39;49m\u001b[43mmanage\u001b[49m\u001b[38;5;241;43m.\u001b[39;49m\u001b[43mTemporal\u001b[49m\u001b[43m(\u001b[49m\u001b[43m)\u001b[49m\u001b[38;5;241;43m.\u001b[39;49m\u001b[43mreadSimObs\u001b[49m\u001b[43m(\u001b[49m\n\u001b[1;32m     33\u001b[0m \u001b[43m        \u001b[49m\u001b[43mcompartment\u001b[49m\u001b[43m \u001b[49m\u001b[38;5;241;43m=\u001b[39;49m\u001b[43m \u001b[49m\u001b[43mcompartment\u001b[49m\u001b[43m,\u001b[49m\n\u001b[1;32m     34\u001b[0m \u001b[43m        \u001b[49m\u001b[43mouttype\u001b[49m\u001b[43m     \u001b[49m\u001b[38;5;241;43m=\u001b[39;49m\u001b[43m \u001b[49m\u001b[43mouttype\u001b[49m\u001b[43m,\u001b[49m\u001b[43m  \u001b[49m\u001b[38;5;66;43;03m# 'Q' (discharge)\u001b[39;49;00m\n\u001b[1;32m     35\u001b[0m \u001b[43m        \u001b[49m\u001b[43mparam\u001b[49m\u001b[43m       \u001b[49m\u001b[38;5;241;43m=\u001b[39;49m\u001b[43m \u001b[49m\u001b[43mparam\u001b[49m\u001b[43m,\u001b[49m\u001b[43m  \u001b[49m\u001b[38;5;66;43;03m# 'discharge\u001b[39;49;00m\n\u001b[1;32m     36\u001b[0m \u001b[43m        \u001b[49m\u001b[43mobs_point\u001b[49m\u001b[43m   \u001b[49m\u001b[38;5;241;43m=\u001b[39;49m\u001b[43m \u001b[49m\u001b[43mobs_point\u001b[49m\u001b[43m,\u001b[49m\u001b[43m \u001b[49m\n\u001b[1;32m     37\u001b[0m \u001b[43m        \u001b[49m\u001b[43msimstart\u001b[49m\u001b[43m    \u001b[49m\u001b[38;5;241;43m=\u001b[39;49m\u001b[43m \u001b[49m\u001b[38;5;28;43mself\u001b[39;49m\u001b[38;5;241;43m.\u001b[39;49m\u001b[43mexd\u001b[49m\u001b[38;5;241;43m.\u001b[39;49m\u001b[43mstartsim\u001b[49m\u001b[43m,\u001b[49m\n\u001b[1;32m     38\u001b[0m \u001b[43m        \u001b[49m\u001b[43mendsim\u001b[49m\u001b[43m      \u001b[49m\u001b[38;5;241;43m=\u001b[39;49m\u001b[43m \u001b[49m\u001b[38;5;28;43mself\u001b[39;49m\u001b[38;5;241;43m.\u001b[39;49m\u001b[43mexd\u001b[49m\u001b[38;5;241;43m.\u001b[39;49m\u001b[43mendsim\u001b[49m\u001b[43m,\u001b[49m\n\u001b[1;32m     39\u001b[0m \u001b[43m        \u001b[49m\u001b[43mcutstart\u001b[49m\u001b[43m    \u001b[49m\u001b[38;5;241;43m=\u001b[39;49m\u001b[43m \u001b[49m\u001b[38;5;124;43m'\u001b[39;49m\u001b[38;5;124;43m2006-08-01\u001b[39;49m\u001b[38;5;124;43m'\u001b[39;49m\u001b[43m,\u001b[49m\u001b[43m  \u001b[49m\u001b[38;5;66;43;03m# TODO\u001b[39;49;00m\n\u001b[1;32m     40\u001b[0m \u001b[43m        \u001b[49m\u001b[43mcutend\u001b[49m\u001b[43m      \u001b[49m\u001b[38;5;241;43m=\u001b[39;49m\u001b[43m \u001b[49m\u001b[38;5;124;43m'\u001b[39;49m\u001b[38;5;124;43m2023-07-31\u001b[39;49m\u001b[38;5;124;43m'\u001b[39;49m\u001b[43m,\u001b[49m\u001b[43m  \u001b[49m\u001b[38;5;66;43;03m# TODO\u001b[39;49;00m\n\u001b[1;32m     41\u001b[0m \u001b[43m        \u001b[49m\u001b[43mid_col_data\u001b[49m\u001b[43m \u001b[49m\u001b[38;5;241;43m=\u001b[39;49m\u001b[43m \u001b[49m\u001b[43mobs_config\u001b[49m\u001b[43m[\u001b[49m\u001b[43mid_compartment\u001b[49m\u001b[43m]\u001b[49m\u001b[43m[\u001b[49m\u001b[38;5;124;43m'\u001b[39;49m\u001b[38;5;124;43mid_col_data\u001b[39;49m\u001b[38;5;124;43m'\u001b[39;49m\u001b[43m]\u001b[49m\u001b[43m,\u001b[49m\u001b[43m  \u001b[49m\u001b[38;5;66;43;03m# From parameters.py\u001b[39;49;00m\n\u001b[1;32m     42\u001b[0m \u001b[43m        \u001b[49m\u001b[43mid_col_time\u001b[49m\u001b[43m \u001b[49m\u001b[38;5;241;43m=\u001b[39;49m\u001b[43m \u001b[49m\u001b[43mobs_config\u001b[49m\u001b[43m[\u001b[49m\u001b[43mid_compartment\u001b[49m\u001b[43m]\u001b[49m\u001b[43m[\u001b[49m\u001b[38;5;124;43m'\u001b[39;49m\u001b[38;5;124;43mid_col_time\u001b[39;49m\u001b[38;5;124;43m'\u001b[39;49m\u001b[43m]\u001b[49m\u001b[43m,\u001b[49m\u001b[43m  \u001b[49m\u001b[38;5;66;43;03m# From parameters.py\u001b[39;49;00m\n\u001b[1;32m     43\u001b[0m \u001b[43m        \u001b[49m\u001b[43mid_parameter\u001b[49m\u001b[43m \u001b[49m\u001b[38;5;241;43m=\u001b[39;49m\u001b[43m \u001b[49m\u001b[43mparamRecs\u001b[49m\u001b[43m[\u001b[49m\u001b[43mcompartment\u001b[49m\u001b[38;5;241;43m.\u001b[39;49m\u001b[43mcompartment\u001b[49m\u001b[43m \u001b[49m\u001b[38;5;241;43m+\u001b[39;49m\u001b[43m \u001b[49m\u001b[38;5;124;43m'\u001b[39;49m\u001b[38;5;124;43m_\u001b[39;49m\u001b[38;5;124;43m'\u001b[39;49m\u001b[43m \u001b[49m\u001b[38;5;241;43m+\u001b[39;49m\u001b[43m \u001b[49m\u001b[43mouttype\u001b[49m\u001b[43m]\u001b[49m\u001b[38;5;241;43m.\u001b[39;49m\u001b[43mindex\u001b[49m\u001b[43m(\u001b[49m\u001b[43mparam\u001b[49m\u001b[43m)\u001b[49m\u001b[43m,\u001b[49m\u001b[43m  \u001b[49m\u001b[38;5;66;43;03m# From parameters.py\u001b[39;49;00m\n\u001b[1;32m     44\u001b[0m \u001b[43m        \u001b[49m\u001b[43mtempDirectory\u001b[49m\u001b[43m \u001b[49m\u001b[38;5;241;43m=\u001b[39;49m\u001b[43m \u001b[49m\u001b[38;5;28;43mself\u001b[39;49m\u001b[38;5;241;43m.\u001b[39;49m\u001b[43mexd\u001b[49m\u001b[38;5;241;43m.\u001b[39;49m\u001b[43mtemp_directory\u001b[49m\u001b[43m,\u001b[49m\n\u001b[1;32m     45\u001b[0m \u001b[43m        \u001b[49m\u001b[43mobs_unit\u001b[49m\u001b[43m    \u001b[49m\u001b[38;5;241;43m=\u001b[39;49m\u001b[43m \u001b[49m\u001b[38;5;28;43mself\u001b[39;49m\u001b[38;5;241;43m.\u001b[39;49m\u001b[43munit\u001b[49m\n\u001b[1;32m     46\u001b[0m \u001b[43m    \u001b[49m\u001b[43m)\u001b[49m\n\u001b[1;32m     48\u001b[0m     \u001b[38;5;66;03m# Calculate performance (biases, etc.)\u001b[39;00m\n\u001b[1;32m     49\u001b[0m     crits \u001b[38;5;241m=\u001b[39m \u001b[38;5;28mself\u001b[39m\u001b[38;5;241m.\u001b[39mcalcPerfStats(simobsdf[\u001b[38;5;124m'\u001b[39m\u001b[38;5;124msim\u001b[39m\u001b[38;5;124m'\u001b[39m]\u001b[38;5;241m.\u001b[39mvalues, simobsdf[\u001b[38;5;124m'\u001b[39m\u001b[38;5;124mobs\u001b[39m\u001b[38;5;124m'\u001b[39m]\u001b[38;5;241m.\u001b[39mvalues)\n",
      "File \u001b[0;32m~/Documents/cawaqspy/src/cawaqsviz_backend/Manage.py:293\u001b[0m, in \u001b[0;36mManage.Temporal.readSimObs\u001b[0;34m(self, compartment, outtype, param, obs_point, simstart, endsim, cutstart, cutend, id_col_data, id_col_time, id_parameter, tempDirectory, obs_unit, verbose)\u001b[0m\n\u001b[1;32m    282\u001b[0m \u001b[38;5;28mprint\u001b[39m(simdata\u001b[38;5;241m.\u001b[39mshape)\n\u001b[1;32m    285\u001b[0m obsdata\u001b[38;5;241m=\u001b[39m \u001b[38;5;28mself\u001b[39m\u001b[38;5;241m.\u001b[39mreadObsData(\n\u001b[1;32m    286\u001b[0m     compartment \u001b[38;5;241m=\u001b[39m compartment, \n\u001b[1;32m    287\u001b[0m     id_col_data \u001b[38;5;241m=\u001b[39m id_col_data,\n\u001b[0;32m   (...)\u001b[0m\n\u001b[1;32m    290\u001b[0m     edate\u001b[38;5;241m=\u001b[39mendsim\n\u001b[1;32m    291\u001b[0m )\n\u001b[0;32m--> 293\u001b[0m simobsdata \u001b[38;5;241m=\u001b[39m \u001b[38;5;28;43mself\u001b[39;49m\u001b[38;5;241;43m.\u001b[39;49m\u001b[43mconcatSimObs\u001b[49m\u001b[43m(\u001b[49m\n\u001b[1;32m    294\u001b[0m \u001b[43m    \u001b[49m\u001b[43mobs_point\u001b[49m\u001b[43m \u001b[49m\u001b[38;5;241;43m=\u001b[39;49m\u001b[43m \u001b[49m\u001b[43mobs_point\u001b[49m\u001b[43m,\u001b[49m\u001b[43m \u001b[49m\n\u001b[1;32m    295\u001b[0m \u001b[43m    \u001b[49m\u001b[43msim_matrix\u001b[49m\u001b[38;5;241;43m=\u001b[39;49m\u001b[43msimdata\u001b[49m\u001b[43m,\u001b[49m\u001b[43m \u001b[49m\n\u001b[1;32m    296\u001b[0m \u001b[43m    \u001b[49m\u001b[43mid_parameter\u001b[49m\u001b[38;5;241;43m=\u001b[39;49m\u001b[43mid_parameter\u001b[49m\u001b[43m,\u001b[49m\u001b[43m \u001b[49m\n\u001b[1;32m    297\u001b[0m \u001b[43m    \u001b[49m\u001b[43mobs_dataframe\u001b[49m\u001b[38;5;241;43m=\u001b[39;49m\u001b[43mobsdata\u001b[49m\u001b[43m,\u001b[49m\u001b[43m \u001b[49m\n\u001b[1;32m    298\u001b[0m \u001b[43m    \u001b[49m\u001b[43msimstartyear\u001b[49m\u001b[38;5;241;43m=\u001b[39;49m\u001b[43msimstart\u001b[49m\u001b[43m,\u001b[49m\u001b[43m \u001b[49m\n\u001b[1;32m    299\u001b[0m \u001b[43m    \u001b[49m\u001b[43msimendyear\u001b[49m\u001b[38;5;241;43m=\u001b[39;49m\u001b[43mendsim\u001b[49m\u001b[43m,\u001b[49m\n\u001b[1;32m    300\u001b[0m \u001b[43m    \u001b[49m\u001b[43msdate\u001b[49m\u001b[43m \u001b[49m\u001b[38;5;241;43m=\u001b[39;49m\u001b[43m \u001b[49m\u001b[43mcutstart\u001b[49m\u001b[43m,\u001b[49m\u001b[43m \u001b[49m\n\u001b[1;32m    301\u001b[0m \u001b[43m    \u001b[49m\u001b[43medate\u001b[49m\u001b[43m \u001b[49m\u001b[38;5;241;43m=\u001b[39;49m\u001b[43m \u001b[49m\u001b[43mcutend\u001b[49m\u001b[43m,\u001b[49m\u001b[43m \u001b[49m\n\u001b[1;32m    302\u001b[0m \u001b[43m    \u001b[49m\u001b[43mpost_process_directory\u001b[49m\u001b[38;5;241;43m=\u001b[39;49m\u001b[43mtempDirectory\u001b[49m\n\u001b[1;32m    303\u001b[0m \u001b[43m\u001b[49m\u001b[43m)\u001b[49m\n\u001b[1;32m    305\u001b[0m \u001b[38;5;28;01mif\u001b[39;00m compartment\u001b[38;5;241m.\u001b[39mcompartment \u001b[38;5;241m==\u001b[39m \u001b[38;5;124m'\u001b[39m\u001b[38;5;124mHYD\u001b[39m\u001b[38;5;124m'\u001b[39m :\n\u001b[1;32m    306\u001b[0m     simobsdata[\u001b[38;5;124m'\u001b[39m\u001b[38;5;124mobs\u001b[39m\u001b[38;5;124m'\u001b[39m] \u001b[38;5;241m=\u001b[39m convertDischarge(simobsdata[\u001b[38;5;124m'\u001b[39m\u001b[38;5;124mobs\u001b[39m\u001b[38;5;124m'\u001b[39m], obs_unit)\n",
      "File \u001b[0;32m~/Documents/cawaqspy/src/cawaqsviz_backend/Manage.py:211\u001b[0m, in \u001b[0;36mManage.Temporal.concatSimObs\u001b[0;34m(self, obs_point, sim_matrix, id_parameter, obs_dataframe, simstartyear, simendyear, sdate, edate, post_process_directory)\u001b[0m\n\u001b[1;32m    208\u001b[0m simsdate \u001b[38;5;241m=\u001b[39m \u001b[38;5;28mstr\u001b[39m(simstartyear) \u001b[38;5;241m+\u001b[39m \u001b[38;5;124m'\u001b[39m\u001b[38;5;124m-08-01\u001b[39m\u001b[38;5;124m'\u001b[39m \n\u001b[1;32m    209\u001b[0m simedate \u001b[38;5;241m=\u001b[39m \u001b[38;5;28mstr\u001b[39m(simendyear) \u001b[38;5;241m+\u001b[39m \u001b[38;5;124m'\u001b[39m\u001b[38;5;124m-07-31\u001b[39m\u001b[38;5;124m'\u001b[39m\n\u001b[0;32m--> 211\u001b[0m sim_data      \u001b[38;5;241m=\u001b[39m \u001b[43msim_matrix\u001b[49m\u001b[43m[\u001b[49m\u001b[38;5;28;43mint\u001b[39;49m\u001b[43m(\u001b[49m\u001b[43mobs_point\u001b[49m\u001b[38;5;241;43m.\u001b[39;49m\u001b[43mid_cell\u001b[49m\u001b[43m)\u001b[49m\u001b[38;5;241;43m-\u001b[39;49m\u001b[38;5;241;43m1\u001b[39;49m\u001b[43m]\u001b[49m\n\u001b[1;32m    212\u001b[0m sim_dataframe \u001b[38;5;241m=\u001b[39m pd\u001b[38;5;241m.\u001b[39mDataFrame(sim_data, index\u001b[38;5;241m=\u001b[39mpd\u001b[38;5;241m.\u001b[39mDatetimeIndex(pd\u001b[38;5;241m.\u001b[39mdate_range(simsdate, simedate, freq \u001b[38;5;241m=\u001b[39m \u001b[38;5;124m'\u001b[39m\u001b[38;5;124mD\u001b[39m\u001b[38;5;124m'\u001b[39m)\u001b[38;5;241m.\u001b[39mstrftime(\u001b[38;5;124m'\u001b[39m\u001b[38;5;124m%\u001b[39m\u001b[38;5;124mY-\u001b[39m\u001b[38;5;124m%\u001b[39m\u001b[38;5;124mm-\u001b[39m\u001b[38;5;132;01m%d\u001b[39;00m\u001b[38;5;124m'\u001b[39m)\u001b[38;5;241m.\u001b[39mtolist()))\n\u001b[1;32m    213\u001b[0m obs_data      \u001b[38;5;241m=\u001b[39m obs_dataframe[obs_point\u001b[38;5;241m.\u001b[39mid_gis]\u001b[38;5;241m.\u001b[39mvalues\n",
      "\u001b[0;31mIndexError\u001b[0m: index 3088 is out of bounds for axis 0 with size 2865"
     ]
    }
   ],
   "source": [
    "out = calc_stats(proj_name='Project_2_1', obstype='Hydraulic Head', run_cawaqs=False, verbose=True)"
   ]
  },
  {
   "cell_type": "code",
   "execution_count": null,
   "metadata": {},
   "outputs": [],
   "source": []
  },
  {
   "cell_type": "code",
   "execution_count": null,
   "metadata": {},
   "outputs": [],
   "source": []
  }
 ],
 "metadata": {
  "kernelspec": {
   "display_name": "Python 3",
   "language": "python",
   "name": "python3"
  },
  "language_info": {
   "codemirror_mode": {
    "name": "ipython",
    "version": 3
   },
   "file_extension": ".py",
   "mimetype": "text/x-python",
   "name": "python",
   "nbconvert_exporter": "python",
   "pygments_lexer": "ipython3",
   "version": "3.10.12"
  }
 },
 "nbformat": 4,
 "nbformat_minor": 2
}
