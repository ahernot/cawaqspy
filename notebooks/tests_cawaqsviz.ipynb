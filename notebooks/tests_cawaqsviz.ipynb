{
 "cells": [
  {
   "cell_type": "code",
   "execution_count": 2,
   "metadata": {},
   "outputs": [],
   "source": [
    "import os\n",
    "if os.path.split(os.getcwd())[-1].lower() == 'notebooks':\n",
    "    os.chdir('..')"
   ]
  },
  {
   "cell_type": "markdown",
   "metadata": {},
   "source": [
    "## Read data (sim & obs)"
   ]
  },
  {
   "cell_type": "code",
   "execution_count": 3,
   "metadata": {},
   "outputs": [],
   "source": [
    "YEAR_START = 2005\n",
    "YEAR_STOP = 2023"
   ]
  },
  {
   "cell_type": "code",
   "execution_count": 4,
   "metadata": {},
   "outputs": [],
   "source": [
    "# Read config_geometry\n",
    "from src.cawaqsviz_backend.Config import ConfigGeometry\n",
    "\n",
    "config_geometries_dict = {\n",
    "    'ids_compartment': [3, 2],\n",
    "    'resolutionNames': {\n",
    "        '3': [['ELEMENTS_BU']],\n",
    "        '2': [['ELEMENTS_MUSKINGUM']]\n",
    "    },\n",
    "    'ids_col_cell': {\n",
    "        '3': 2,\n",
    "        '2': 13\n",
    "    },\n",
    "    'obsNames':        {'2': 'STATIONS_select'},\n",
    "    'obsIdsColCells':  {'2': 5},\n",
    "    'obsIdsColNames':  {'2': 0},\n",
    "    'obsIdsColLayers': {'2': None}\n",
    "}\n",
    "\n",
    "config_geometry = ConfigGeometry.fromUnformattedDict(config_geometries_dict)"
   ]
  },
  {
   "cell_type": "code",
   "execution_count": 5,
   "metadata": {},
   "outputs": [
    {
     "name": "stderr",
     "output_type": "stream",
     "text": [
      "Application path not initialized\n",
      "Application path not initialized\n",
      "Application path not initialized\n",
      "Application path not initialized\n",
      "proj_create: Error 1029 (File not found or invalid): pipeline: Pipeline: Bad step definition: inv (File not found or invalid)\n",
      "Application path not initialized\n"
     ]
    },
    {
     "ename": "",
     "evalue": "",
     "output_type": "error",
     "traceback": [
      "\u001b[1;31mThe Kernel crashed while executing code in the current cell or a previous cell. \n",
      "\u001b[1;31mPlease review the code in the cell(s) to identify a possible cause of the failure. \n",
      "\u001b[1;31mClick <a href='https://aka.ms/vscodeJupyterKernelCrash'>here</a> for more info. \n",
      "\u001b[1;31mView Jupyter <a href='command:jupyter.viewOutput'>log</a> for further details."
     ]
    }
   ],
   "source": [
    "# Generate ExploreData instance (or run DialogSettings to pregenerate it)\n",
    "from src.cawaqsviz_backend.ExploreData import ExploreData\n",
    "\n",
    "#! TODO: Plug this into the project/geom config files generation\n",
    "\n",
    "DIRPATH_DATA = '/home/anatole/Documents/DATA_CAWAQS/SEINE_3C/DATA_SEINE_SIMPLE'\n",
    "DIRPATH_OBS  = '/home/anatole/Documents/DATA_CAWAQS/SEINE_3C/DATA_OBS/TS_OBS_DISCHARGE'\n",
    "DIRPATH_OUT  = '/home/anatole/Documents/DATA_CAWAQS_OUT/'  # os.makedirs\n",
    "dirname_out_proj = 'Project'\n",
    "dirpath_out_proj = '/home/anatole/Documents/DATA_CAWAQS_OUT/Project'  # TODO: iterate over project_{id}\n",
    "DIRPATH_POST_PROCESSING = '/home/anatole/Documents/DATA_CAWAQS_OUT/Project/POST_PROCESSING'  # TODO: main PP dir (includes all PP subdirs)\n",
    "\n",
    "\n",
    "# Generate ExploreData      \n",
    "EXD = ExploreData(\n",
    "    ids_compartments=config_geometry.idCompartments,\n",
    "    config=config_geometry,\n",
    "    out_caw_directory=os.path.join(dirpath_out_proj, f'RUN_CAL_1'),  # Same as project config\n",
    "    obs_directory=DIRPATH_OBS,   # Same as project config\n",
    "    post_process_directory=DIRPATH_POST_PROCESSING,   # Same as project config\n",
    "    s_year=YEAR_START, \n",
    "    e_year=YEAR_STOP\n",
    ")"
   ]
  },
  {
   "cell_type": "code",
   "execution_count": 2,
   "metadata": {},
   "outputs": [
    {
     "ename": "ModuleNotFoundError",
     "evalue": "No module named 'src'",
     "output_type": "error",
     "traceback": [
      "\u001b[0;31m---------------------------------------------------------------------------\u001b[0m",
      "\u001b[0;31mModuleNotFoundError\u001b[0m                       Traceback (most recent call last)",
      "Cell \u001b[0;32mIn[2], line 1\u001b[0m\n\u001b[0;32m----> 1\u001b[0m \u001b[38;5;28;01mfrom\u001b[39;00m \u001b[38;5;21;01msrc\u001b[39;00m\u001b[38;5;21;01m.\u001b[39;00m\u001b[38;5;21;01mcawaqsviz_backend\u001b[39;00m\u001b[38;5;21;01m.\u001b[39;00m\u001b[38;5;21;01mStatisticalCriteria\u001b[39;00m \u001b[38;5;28;01mimport\u001b[39;00m StatisticalCriteria\n\u001b[1;32m      2\u001b[0m sc \u001b[38;5;241m=\u001b[39m StatisticalCriteria(exd\u001b[38;5;241m=\u001b[39mEXD)\n\u001b[1;32m      3\u001b[0m sc\u001b[38;5;241m.\u001b[39mrun()\n",
      "\u001b[0;31mModuleNotFoundError\u001b[0m: No module named 'src'"
     ]
    }
   ],
   "source": [
    "from src.cawaqsviz_backend.StatisticalCriteria import StatisticalCriteria\n",
    "sc = StatisticalCriteria(exd=EXD)\n",
    "pbiases_dict = sc.run()"
   ]
  },
  {
   "cell_type": "code",
   "execution_count": null,
   "metadata": {},
   "outputs": [],
   "source": []
  },
  {
   "cell_type": "code",
   "execution_count": null,
   "metadata": {},
   "outputs": [],
   "source": []
  }
 ],
 "metadata": {
  "kernelspec": {
   "display_name": "Python 3",
   "language": "python",
   "name": "python3"
  },
  "language_info": {
   "codemirror_mode": {
    "name": "ipython",
    "version": 3
   },
   "file_extension": ".py",
   "mimetype": "text/x-python",
   "name": "python",
   "nbconvert_exporter": "python",
   "pygments_lexer": "ipython3",
   "version": "3.10.12"
  }
 },
 "nbformat": 4,
 "nbformat_minor": 2
}
