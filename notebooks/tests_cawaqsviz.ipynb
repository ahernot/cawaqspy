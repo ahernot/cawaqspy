{
 "cells": [
  {
   "cell_type": "code",
   "execution_count": 1,
   "metadata": {},
   "outputs": [],
   "source": [
    "import os\n",
    "if os.path.split(os.getcwd())[-1].lower() == 'notebooks':\n",
    "    os.chdir('..')"
   ]
  },
  {
   "cell_type": "markdown",
   "metadata": {},
   "source": [
    "## Read data (sim & obs)"
   ]
  },
  {
   "cell_type": "code",
   "execution_count": 2,
   "metadata": {},
   "outputs": [],
   "source": [
    "YEAR_START = 2005\n",
    "YEAR_STOP = 2023"
   ]
  },
  {
   "cell_type": "code",
   "execution_count": 5,
   "metadata": {},
   "outputs": [
    {
     "data": {
      "text/plain": [
       "{'ids_compartment': [3, 2],\n",
       " 'resolutionNames': {'3': [['ELEMENTS_BU']], '2': [['ELEMENTS_MUSKINGUM']]},\n",
       " 'ids_col_cell': {'3': 2, '2': 13},\n",
       " 'obsNames': {'2': 'STATIONS_select'},\n",
       " 'obsIdsColCells': {'2': 5},\n",
       " 'obsIdsColNames': {'2': 0},\n",
       " 'obsIdsColLayers': {'2': None}}"
      ]
     },
     "execution_count": 5,
     "metadata": {},
     "output_type": "execute_result"
    }
   ],
   "source": []
  },
  {
   "cell_type": "code",
   "execution_count": 6,
   "metadata": {},
   "outputs": [],
   "source": [
    "from src.cawaqsviz_backend.Config import ConfigGeometry\n",
    "from src.utils.build_cawaqsviz_config import build_config_geometries\n",
    "\n",
    "config_geometries_dict = build_config_geometries(dirpath_out_proj='')\n",
    "config_geometry = ConfigGeometry.fromUnformattedDict(config_geometries_dict)"
   ]
  },
  {
   "cell_type": "code",
   "execution_count": 6,
   "metadata": {},
   "outputs": [
    {
     "ename": "ModuleNotFoundError",
     "evalue": "No module named 'qgis'",
     "output_type": "error",
     "traceback": [
      "\u001b[0;31m---------------------------------------------------------------------------\u001b[0m",
      "\u001b[0;31mModuleNotFoundError\u001b[0m                       Traceback (most recent call last)",
      "\u001b[0;32m<ipython-input-6-fdc530dbb546>\u001b[0m in \u001b[0;36m<module>\u001b[0;34m\u001b[0m\n\u001b[1;32m      1\u001b[0m \u001b[0;31m# Generate ExploreData instance (or run DialogSettings to pregenerate it)\u001b[0m\u001b[0;34m\u001b[0m\u001b[0;34m\u001b[0m\u001b[0;34m\u001b[0m\u001b[0m\n\u001b[0;32m----> 2\u001b[0;31m \u001b[0;32mfrom\u001b[0m \u001b[0msrc\u001b[0m\u001b[0;34m.\u001b[0m\u001b[0mcawaqsviz_backend\u001b[0m\u001b[0;34m.\u001b[0m\u001b[0mExploreData\u001b[0m \u001b[0;32mimport\u001b[0m \u001b[0mExploreData\u001b[0m\u001b[0;34m\u001b[0m\u001b[0;34m\u001b[0m\u001b[0m\n\u001b[0m\u001b[1;32m      3\u001b[0m \u001b[0;34m\u001b[0m\u001b[0m\n\u001b[1;32m      4\u001b[0m \u001b[0;31m#! TODO: Plug this into the project/geom config files generation\u001b[0m\u001b[0;34m\u001b[0m\u001b[0;34m\u001b[0m\u001b[0;34m\u001b[0m\u001b[0m\n\u001b[1;32m      5\u001b[0m \u001b[0;34m\u001b[0m\u001b[0m\n",
      "\u001b[0;32m~/Documents/GitHub/cawaqspy/src/cawaqsviz_backend/ExploreData.py\u001b[0m in \u001b[0;36m<module>\u001b[0;34m\u001b[0m\n\u001b[0;32m----> 1\u001b[0;31m \u001b[0;32mfrom\u001b[0m \u001b[0;34m.\u001b[0m\u001b[0mCompartment\u001b[0m \u001b[0;32mimport\u001b[0m \u001b[0mCompartment\u001b[0m\u001b[0;34m\u001b[0m\u001b[0;34m\u001b[0m\u001b[0m\n\u001b[0m\u001b[1;32m      2\u001b[0m \u001b[0;32mfrom\u001b[0m \u001b[0;34m.\u001b[0m\u001b[0mManage\u001b[0m \u001b[0;32mimport\u001b[0m \u001b[0mManage\u001b[0m\u001b[0;34m\u001b[0m\u001b[0;34m\u001b[0m\u001b[0m\n\u001b[1;32m      3\u001b[0m \u001b[0;32mfrom\u001b[0m \u001b[0mPyQt5\u001b[0m\u001b[0;34m.\u001b[0m\u001b[0mQtCore\u001b[0m \u001b[0;32mimport\u001b[0m \u001b[0mQObject\u001b[0m\u001b[0;34m,\u001b[0m \u001b[0mpyqtSignal\u001b[0m\u001b[0;34m\u001b[0m\u001b[0;34m\u001b[0m\u001b[0m\n\u001b[1;32m      4\u001b[0m \u001b[0;34m\u001b[0m\u001b[0m\n\u001b[1;32m      5\u001b[0m \u001b[0;32mfrom\u001b[0m \u001b[0mos\u001b[0m \u001b[0;32mimport\u001b[0m \u001b[0msep\u001b[0m\u001b[0;34m\u001b[0m\u001b[0;34m\u001b[0m\u001b[0m\n",
      "\u001b[0;32m~/Documents/GitHub/cawaqspy/src/cawaqsviz_backend/Compartment.py\u001b[0m in \u001b[0;36m<module>\u001b[0;34m\u001b[0m\n\u001b[1;32m      1\u001b[0m \u001b[0;32mfrom\u001b[0m \u001b[0;34m.\u001b[0m\u001b[0mConfig\u001b[0m \u001b[0;32mimport\u001b[0m \u001b[0mConfig\u001b[0m\u001b[0;34m\u001b[0m\u001b[0;34m\u001b[0m\u001b[0m\n\u001b[0;32m----> 2\u001b[0;31m \u001b[0;32mfrom\u001b[0m \u001b[0;34m.\u001b[0m\u001b[0mMesh\u001b[0m \u001b[0;32mimport\u001b[0m \u001b[0mMesh\u001b[0m\u001b[0;34m\u001b[0m\u001b[0;34m\u001b[0m\u001b[0m\n\u001b[0m\u001b[1;32m      3\u001b[0m \u001b[0;32mfrom\u001b[0m \u001b[0;34m.\u001b[0m\u001b[0mObservations\u001b[0m \u001b[0;32mimport\u001b[0m \u001b[0mObservation\u001b[0m\u001b[0;34m\u001b[0m\u001b[0;34m\u001b[0m\u001b[0m\n\u001b[1;32m      4\u001b[0m \u001b[0;34m\u001b[0m\u001b[0m\n\u001b[1;32m      5\u001b[0m \u001b[0;32mimport\u001b[0m \u001b[0mjson\u001b[0m\u001b[0;34m\u001b[0m\u001b[0;34m\u001b[0m\u001b[0m\n",
      "\u001b[0;32m~/Documents/GitHub/cawaqspy/src/cawaqsviz_backend/Mesh.py\u001b[0m in \u001b[0;36m<module>\u001b[0;34m\u001b[0m\n\u001b[1;32m      2\u001b[0m \u001b[0;31m# from .Cell import Cell\u001b[0m\u001b[0;34m\u001b[0m\u001b[0;34m\u001b[0m\u001b[0;34m\u001b[0m\u001b[0m\n\u001b[1;32m      3\u001b[0m \u001b[0;34m\u001b[0m\u001b[0m\n\u001b[0;32m----> 4\u001b[0;31m \u001b[0;32mfrom\u001b[0m \u001b[0mqgis\u001b[0m\u001b[0;34m.\u001b[0m\u001b[0mcore\u001b[0m \u001b[0;32mimport\u001b[0m \u001b[0mQgsProject\u001b[0m\u001b[0;34m,\u001b[0m \u001b[0mQgsVectorLayer\u001b[0m\u001b[0;34m,\u001b[0m \u001b[0mQgsGeometry\u001b[0m\u001b[0;34m\u001b[0m\u001b[0;34m\u001b[0m\u001b[0m\n\u001b[0m\u001b[1;32m      5\u001b[0m \u001b[0;34m\u001b[0m\u001b[0m\n\u001b[1;32m      6\u001b[0m \u001b[0;32mfrom\u001b[0m \u001b[0;34m.\u001b[0m\u001b[0mparameters\u001b[0m \u001b[0;32mimport\u001b[0m \u001b[0mnames_mesh\u001b[0m\u001b[0;34m,\u001b[0m \u001b[0mids_mesh\u001b[0m\u001b[0;34m,\u001b[0m \u001b[0mreversed_module_caw\u001b[0m\u001b[0;34m\u001b[0m\u001b[0;34m\u001b[0m\u001b[0m\n",
      "\u001b[0;31mModuleNotFoundError\u001b[0m: No module named 'qgis'"
     ]
    }
   ],
   "source": [
    "# Generate ExploreData instance (or run DialogSettings to pregenerate it)\n",
    "from src.cawaqsviz_backend.ExploreData import ExploreData\n",
    "\n",
    "#! TODO: Plug this into the project/geom config files generation\n",
    "\n",
    "DIRPATH_DATA = '/home/anatole/Documents/DATA_CAWAQS/SEINE_3C/DATA_SEINE_SIMPLE'\n",
    "DIRPATH_OBS  = '/home/anatole/Documents/DATA_CAWAQS/SEINE_3C/DATA_OBS/TS_OBS_DISCHARGE'\n",
    "DIRPATH_OUT  = '/home/anatole/Documents/DATA_CAWAQS_OUT/'  # os.makedirs\n",
    "dirname_proj = 'Project'\n",
    "dirpath_proj = '/home/anatole/Documents/DATA_CAWAQS_OUT/Project'  # TODO: iterate over project_{id}\n",
    "DIRPATH_PROJ_POSTPROC = '/home/anatole/Documents/DATA_CAWAQS_OUT/Project/POST_PROCESSING'  # TODO: main PP dir (includes all PP subdirs)\n",
    "\n",
    "\n",
    "# Generate ExploreData      \n",
    "EXD = ExploreData(\n",
    "    ids_compartments=config_geometry.idCompartments,\n",
    "    config=config_geometry,\n",
    "    out_caw_directory=os.path.join(dirpath_proj, f'RUN_CAL_1'),  # Same as project config\n",
    "    obs_directory=DIRPATH_OBS,   # Same as project config\n",
    "    post_process_directory=DIRPATH_PROJ_POSTPROC,   # Same as project config\n",
    "    s_year=YEAR_START, \n",
    "    e_year=YEAR_STOP\n",
    ")"
   ]
  },
  {
   "cell_type": "code",
   "execution_count": 2,
   "metadata": {},
   "outputs": [
    {
     "ename": "ModuleNotFoundError",
     "evalue": "No module named 'src'",
     "output_type": "error",
     "traceback": [
      "\u001b[0;31m---------------------------------------------------------------------------\u001b[0m",
      "\u001b[0;31mModuleNotFoundError\u001b[0m                       Traceback (most recent call last)",
      "Cell \u001b[0;32mIn[2], line 1\u001b[0m\n\u001b[0;32m----> 1\u001b[0m \u001b[38;5;28;01mfrom\u001b[39;00m \u001b[38;5;21;01msrc\u001b[39;00m\u001b[38;5;21;01m.\u001b[39;00m\u001b[38;5;21;01mcawaqsviz_backend\u001b[39;00m\u001b[38;5;21;01m.\u001b[39;00m\u001b[38;5;21;01mStatisticalCriteria\u001b[39;00m \u001b[38;5;28;01mimport\u001b[39;00m StatisticalCriteria\n\u001b[1;32m      2\u001b[0m sc \u001b[38;5;241m=\u001b[39m StatisticalCriteria(exd\u001b[38;5;241m=\u001b[39mEXD)\n\u001b[1;32m      3\u001b[0m sc\u001b[38;5;241m.\u001b[39mrun()\n",
      "\u001b[0;31mModuleNotFoundError\u001b[0m: No module named 'src'"
     ]
    }
   ],
   "source": [
    "from src.cawaqsviz_backend.StatisticalCriteria import StatisticalCriteria\n",
    "sc = StatisticalCriteria(exd=EXD)\n",
    "pbiases_dict = sc.run()  # One pbias per production function"
   ]
  },
  {
   "cell_type": "code",
   "execution_count": null,
   "metadata": {},
   "outputs": [],
   "source": []
  },
  {
   "cell_type": "code",
   "execution_count": null,
   "metadata": {},
   "outputs": [],
   "source": []
  }
 ],
 "metadata": {
  "kernelspec": {
   "display_name": "Python 3",
   "language": "python",
   "name": "python3"
  },
  "language_info": {
   "codemirror_mode": {
    "name": "ipython",
    "version": 3
   },
   "file_extension": ".py",
   "mimetype": "text/x-python",
   "name": "python",
   "nbconvert_exporter": "python",
   "pygments_lexer": "ipython3",
   "version": "3.9.0"
  }
 },
 "nbformat": 4,
 "nbformat_minor": 2
}
