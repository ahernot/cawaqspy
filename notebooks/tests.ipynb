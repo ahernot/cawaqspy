{
 "cells": [
  {
   "cell_type": "markdown",
   "metadata": {},
   "source": [
    "# 1. Notebook Setup"
   ]
  },
  {
   "cell_type": "code",
   "execution_count": 1,
   "metadata": {},
   "outputs": [],
   "source": [
    "import os\n",
    "if os.path.split(os.getcwd())[-1].lower() == 'notebooks':\n",
    "    os.chdir('..')"
   ]
  },
  {
   "cell_type": "markdown",
   "metadata": {},
   "source": [
    "TODO:<br>\n",
    "* Generate DONSUR data file -² read from xlsx\n",
    "* Update COMM file to reflect changes\n",
    "* Generate new dirpathout"
   ]
  },
  {
   "cell_type": "markdown",
   "metadata": {},
   "source": [
    "# 2. CaWaQS setup"
   ]
  },
  {
   "cell_type": "code",
   "execution_count": 3,
   "metadata": {},
   "outputs": [],
   "source": [
    "from src.config import *\n",
    "\n",
    "# Attempt generation of main output directory\n",
    "try:\n",
    "    os.makedirs(DIRPATH_OUT)\n",
    "except FileExistsError:\n",
    "    pass"
   ]
  },
  {
   "cell_type": "markdown",
   "metadata": {},
   "source": [
    "## Run a project"
   ]
  },
  {
   "cell_type": "code",
   "execution_count": 4,
   "metadata": {},
   "outputs": [],
   "source": [
    "# Build output directory\n",
    "dirname_out_proj = 'TestProj'\n",
    "dirpath_out_proj = os.path.join(DIRPATH_OUT, dirname_out_proj)\n",
    "\n",
    "try:\n",
    "    os.makedirs(DIRPATH_OUT)\n",
    "except FileExistsError:\n",
    "    pass"
   ]
  },
  {
   "cell_type": "code",
   "execution_count": 5,
   "metadata": {},
   "outputs": [
    {
     "name": "stdout",
     "output_type": "stream",
     "text": [
      "Built command file in path \"/home/anatole/Documents/DATA_CAWAQS/SEINE_3C/DATA_SEINE_SIMPLE/Cmd_files/TestProj.COMM\"\n"
     ]
    }
   ],
   "source": [
    "from src.utils import build_command_file\n",
    "\n",
    "build_command_file.DIRPATH_DATA = DIRPATH_DATA\n",
    "build_command_file.DIRPATH_OUTPUT = dirpath_out_proj\n",
    "build_command_file.N_THREADS = 8\n",
    "\n",
    "build_command_file.DONSUR = 'DONSUR_BU28.txt'  # TODO: generate on the fly\n",
    "build_command_file.LIEN_BU_MTO = 'LIEN_BU28_MTO.txt'\n",
    "build_command_file.LIEN_ELE_BU_CPROD = 'LIEN_ELE_BU_CPROD.txt'\n",
    "\n",
    "\n",
    "# Build command file\n",
    "DIRPATH_COMM = os.path.join(DIRPATH_DATA, 'Cmd_files')\n",
    "path_command_file = os.path.join(DIRPATH_COMM, f'{dirname_out_proj}.COMM')\n",
    "build_command_file.build(path_command_file)\n",
    "\n",
    "print(f'Built command file in path \"{path_command_file}\"')"
   ]
  },
  {
   "cell_type": "code",
   "execution_count": 6,
   "metadata": {},
   "outputs": [],
   "source": [
    "from src.config import PATH_CAWAQS\n",
    "\n",
    "path_log = os.path.join(dirpath_out_proj, f'{dirname_out_proj}.log')\n",
    "command = f'{PATH_CAWAQS} {path_command_file} {path_log}'\n",
    "# os.system(command)  # TODO: --quiet"
   ]
  },
  {
   "cell_type": "code",
   "execution_count": 7,
   "metadata": {},
   "outputs": [
    {
     "name": "stdout",
     "output_type": "stream",
     "text": [
      "Simulation complete. Generating CawaqsVis setup file.\n"
     ]
    }
   ],
   "source": [
    "print(f'Simulation complete. Generating CawaqsVis setup file.')"
   ]
  },
  {
   "cell_type": "code",
   "execution_count": null,
   "metadata": {},
   "outputs": [],
   "source": [
    "DIRNAME_POST_PROCESSING = 'POST_PROCESSING'\n",
    "DIRPATH_POST_PROCESSING = os.path.join(dirpath_out_proj, DIRNAME_POST_PROCESSING)\n",
    "\n",
    "# Build the post-processing directory\n",
    "try:\n",
    "    os.makedirs(DIRPATH_POST_PROCESSING)\n",
    "except FileExistsError:\n",
    "    pass"
   ]
  },
  {
   "cell_type": "code",
   "execution_count": null,
   "metadata": {},
   "outputs": [],
   "source": [
    "from src.utils import build_cawaqsvis_config\n",
    "\n",
    "# Define pseudo-global variables\n",
    "build_cawaqsvis_config.DIRPATH_DATA = DIRPATH_DATA\n",
    "build_cawaqsvis_config.DIRPATH_OBS  = DIRPATH_OBS\n",
    "build_cawaqsvis_config.DIRPATH_OUT  = DIRPATH_OUT\n",
    "build_cawaqsvis_config.dirname_out_proj = dirname_out_proj\n",
    "build_cawaqsvis_config.dirpath_out_proj = dirpath_out_proj\n",
    "build_cawaqsvis_config.DIRPATH_POST_PROCESSING = DIRPATH_POST_PROCESSING\n",
    "\n",
    "# Define specific variables\n",
    "path_config_project = os.path.join(dirpath_out_proj, f'config_project_{dirname_out_proj}.json')\n",
    "path_config_geometries = os.path.join(dirpath_out_proj, f'config_geometries_{dirname_out_proj}.json')\n",
    "build_cawaqsvis_config.path_config_project = path_config_project\n",
    "build_cawaqsvis_config.path_config_geometries = path_config_geometries\n",
    "\n",
    "# Build CaWaQSVis config files\n",
    "build_cawaqsvis_config.build()"
   ]
  },
  {
   "cell_type": "code",
   "execution_count": null,
   "metadata": {},
   "outputs": [],
   "source": [
    "print(f'Generation done. Import into CawaqsVis using the project config file located in:\\n{path_config_project}')"
   ]
  },
  {
   "cell_type": "code",
   "execution_count": null,
   "metadata": {},
   "outputs": [],
   "source": []
  }
 ],
 "metadata": {
  "kernelspec": {
   "display_name": "Python 3",
   "language": "python",
   "name": "python3"
  },
  "language_info": {
   "codemirror_mode": {
    "name": "ipython",
    "version": 3
   },
   "file_extension": ".py",
   "mimetype": "text/x-python",
   "name": "python",
   "nbconvert_exporter": "python",
   "pygments_lexer": "ipython3",
   "version": "3.9.0"
  }
 },
 "nbformat": 4,
 "nbformat_minor": 2
}
