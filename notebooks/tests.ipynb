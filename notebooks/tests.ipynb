{
 "cells": [
  {
   "cell_type": "markdown",
   "metadata": {},
   "source": [
    "# Notebook Setup"
   ]
  },
  {
   "cell_type": "code",
   "execution_count": 2,
   "metadata": {},
   "outputs": [],
   "source": [
    "import os\n",
    "if os.path.split(os.getcwd())[-1].lower() == 'notebooks':\n",
    "    os.chdir('..')"
   ]
  },
  {
   "cell_type": "markdown",
   "metadata": {},
   "source": []
  },
  {
   "cell_type": "code",
   "execution_count": 3,
   "metadata": {},
   "outputs": [],
   "source": [
    "# Setup main dirpaths\n",
    "DIRPATH_DATA = '/home/anatole/Documents/DATA_CAWAQS/SEINE_3C/DATA_SEINE_SIMPLE'\n",
    "DIRPATH_OBS  = '/home/anatole/Documents/DATA_CAWAQS/SEINE_3C/DATA_OBS/TS_OBS_DISCHARGE'\n",
    "DIRPATH_OUT  = '/home/anatole/Documents/DATA_CAWAQS_OUT/'  # os.makedirs"
   ]
  },
  {
   "cell_type": "markdown",
   "metadata": {},
   "source": [
    "Generate DONSUR data file -² read from xlsx\n",
    "Update COMM file to reflect changes\n",
    "Generate new dirpathout"
   ]
  },
  {
   "cell_type": "code",
   "execution_count": null,
   "metadata": {},
   "outputs": [],
   "source": []
  },
  {
   "cell_type": "markdown",
   "metadata": {},
   "source": [
    "## New project"
   ]
  },
  {
   "cell_type": "code",
   "execution_count": 4,
   "metadata": {},
   "outputs": [],
   "source": [
    "# Build output directory\n",
    "dirname_out_proj = 'TestProj'\n",
    "dirpath_out_proj = os.path.join(DIRPATH_OUT, dirname_out_proj)\n",
    "\n",
    "try:\n",
    "    os.makedirs(DIRPATH_OUT)\n",
    "except FileExistsError:\n",
    "    pass"
   ]
  },
  {
   "cell_type": "code",
   "execution_count": 5,
   "metadata": {},
   "outputs": [
    {
     "name": "stdout",
     "output_type": "stream",
     "text": [
      "Built command file in path \"/home/anatole/Documents/DATA_CAWAQS/SEINE_3C/DATA_SEINE_SIMPLE/Cmd_files/TestProj.COMM\"\n"
     ]
    }
   ],
   "source": [
    "from src.utils import build_command_file\n",
    "\n",
    "build_command_file.DIRPATH_DATA = DIRPATH_DATA\n",
    "build_command_file.DIRPATH_OUTPUT = dirpath_out_proj\n",
    "build_command_file.N_THREADS = 8\n",
    "\n",
    "build_command_file.DONSUR = 'DONSUR_BU28.txt'  # TODO\n",
    "build_command_file.LIEN_BU_MTO = 'LIEN_BU28_MTO.txt'\n",
    "build_command_file.LIEN_ELE_BU_CPROD = 'LIEN_ELE_BU_CPROD.txt'\n",
    "\n",
    "\n",
    "# Build command file\n",
    "DIRPATH_COMM = os.path.join(DIRPATH_DATA, 'Cmd_files')\n",
    "path_command_file = os.path.join(DIRPATH_COMM, f'{dirname_out_proj}.COMM')\n",
    "build_command_file.build(path_command_file)  # TODO: build it in the Cmd_files directory\n",
    "\n",
    "print(f'Built command file in path \"{path_command_file}\"')"
   ]
  },
  {
   "cell_type": "code",
   "execution_count": 6,
   "metadata": {},
   "outputs": [],
   "source": [
    "from src.config import PATH_CAWAQS\n",
    "\n",
    "path_log = os.path.join(dirpath_out_proj, f'{dirname_out_proj}.log')\n",
    "command = f'{PATH_CAWAQS} {path_command_file} {path_log}'\n",
    "# os.system(command)"
   ]
  },
  {
   "cell_type": "code",
   "execution_count": 7,
   "metadata": {},
   "outputs": [
    {
     "name": "stdout",
     "output_type": "stream",
     "text": [
      "Simulation complete. Generating CawaqsVis setup file.\n"
     ]
    }
   ],
   "source": [
    "print(f'Simulation complete. Generating CawaqsVis setup file.')"
   ]
  },
  {
   "cell_type": "code",
   "execution_count": 10,
   "metadata": {},
   "outputs": [],
   "source": [
    "import json\n",
    "\n",
    "DIRNAME_POST_PROCESSING = 'POST_PROCESSING'\n",
    "DIRPATH_POST_PROCESSING = os.path.join(dirpath_out_proj, DIRNAME_POST_PROCESSING)\n",
    "\n",
    "# Build the post-processing directory\n",
    "try:\n",
    "    os.makedirs(DIRPATH_POST_PROCESSING)\n",
    "except FileExistsError:\n",
    "    pass\n",
    "\n",
    "\n",
    "path_config_project = os.path.join(dirpath_out_proj, f'config_project_{dirname_out_proj}.json')\n",
    "path_config_geometries = os.path.join(dirpath_out_proj, f'config_geometries_{dirname_out_proj}.json')\n",
    "\n",
    "\n",
    "config_geometries_dict = {\n",
    "    'ids_compartment': [3, 2],\n",
    "    'resolutionNames': {\n",
    "        '3': [['ELEMENTS_BU']],\n",
    "        '2': [['ELEMENTS_MUSKINGUM']]\n",
    "    },\n",
    "    'ids_col_cell': {\n",
    "        '3': 2,\n",
    "        '2': 13\n",
    "    },\n",
    "    'obsNames':        {'2': 'STATIONS_select'},\n",
    "    'obsIdsColCells':  {'2': 5},\n",
    "    'obsIdsColNames':  {'2': 0},\n",
    "    'obsIdsColLayers': {'2': None}\n",
    "}\n",
    "\n",
    "# Build geometries config file\n",
    "with open(path_config_geometries, 'w', encoding='utf-8') as file:\n",
    "    json.dump(config_geometries_dict, file, indent=4)\n",
    "\n",
    "\n",
    "config_project_dict = {\n",
    "    'json_path_geometries': os.path.join(dirpath_out_proj, f'config_geometries_{dirname_out_proj}.json'),\n",
    "    'projectName':          dirname_out_proj,\n",
    "    'cawOutDirectory':      os.path.join(dirpath_out_proj, f'RUN_CAL_1'),\n",
    "    'startSim':             2005,\n",
    "    'endSim':               2023,\n",
    "    'obsDirectory':         DIRPATH_OBS,\n",
    "    'ppDirectory':          DIRPATH_POST_PROCESSING\n",
    "}\n",
    "\n",
    "# Build project config file\n",
    "with open(path_config_project, 'w', encoding='utf-8') as file:\n",
    "    json.dump(config_project_dict, file, indent=4)"
   ]
  },
  {
   "cell_type": "code",
   "execution_count": 16,
   "metadata": {},
   "outputs": [
    {
     "name": "stdout",
     "output_type": "stream",
     "text": [
      "Generation done. Import into CawaqsVis using the project config file located in:\n",
      "/home/anatole/Documents/DATA_CAWAQS_OUT/TestProj/config_project_TestProj.json\n"
     ]
    }
   ],
   "source": [
    "print(f'Generation done. Import into CawaqsVis using the project config file located in:\\n{path_config_project}')"
   ]
  },
  {
   "cell_type": "code",
   "execution_count": null,
   "metadata": {},
   "outputs": [],
   "source": []
  }
 ],
 "metadata": {
  "kernelspec": {
   "display_name": "Python 3",
   "language": "python",
   "name": "python3"
  },
  "language_info": {
   "codemirror_mode": {
    "name": "ipython",
    "version": 3
   },
   "file_extension": ".py",
   "mimetype": "text/x-python",
   "name": "python",
   "nbconvert_exporter": "python",
   "pygments_lexer": "ipython3",
   "version": "3.10.12"
  }
 },
 "nbformat": 4,
 "nbformat_minor": 2
}
