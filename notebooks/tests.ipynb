{
 "cells": [
  {
   "cell_type": "markdown",
   "metadata": {},
   "source": [
    "# 1. Notebook Setup"
   ]
  },
  {
   "cell_type": "code",
   "execution_count": 1,
   "metadata": {},
   "outputs": [],
   "source": [
    "import os\n",
    "if os.path.split(os.getcwd())[-1].lower() == 'notebooks':\n",
    "    os.chdir('..')"
   ]
  },
  {
   "cell_type": "markdown",
   "metadata": {},
   "source": [
    "TODO:<br>\n",
    "* Generate DONSUR data file -² read from xlsx\n",
    "* Update COMM file to reflect changes\n",
    "* Generate new dirpathout"
   ]
  },
  {
   "cell_type": "markdown",
   "metadata": {},
   "source": [
    "# 2. CaWaQS setup"
   ]
  },
  {
   "cell_type": "code",
   "execution_count": 2,
   "metadata": {},
   "outputs": [],
   "source": [
    "import numpy as np"
   ]
  },
  {
   "cell_type": "code",
   "execution_count": 3,
   "metadata": {},
   "outputs": [],
   "source": [
    "from src.config import *\n",
    "\n",
    "# Attempt generation of main output directory\n",
    "try:\n",
    "    os.makedirs(DIRPATH_OUT)\n",
    "except FileExistsError:\n",
    "    pass"
   ]
  },
  {
   "cell_type": "markdown",
   "metadata": {},
   "source": [
    "## Run a project"
   ]
  },
  {
   "cell_type": "code",
   "execution_count": 8,
   "metadata": {},
   "outputs": [],
   "source": [
    "# Build output directory\n",
    "dirname_out_proj = 'TestProj'\n",
    "dirpath_out_proj = os.path.join(DIRPATH_OUT, dirname_out_proj)\n",
    "\n",
    "try:\n",
    "    os.makedirs(dirpath_out_proj)\n",
    "except FileExistsError:\n",
    "    pass"
   ]
  },
  {
   "cell_type": "code",
   "execution_count": 9,
   "metadata": {},
   "outputs": [
    {
     "name": "stdout",
     "output_type": "stream",
     "text": [
      "Built command file in path \"/home/anatole/Documents/DATA_CAWAQS/SEINE_3C/DATA_SEINE_SIMPLE/Cmd_files/TestProj.COMM\"\n"
     ]
    }
   ],
   "source": [
    "from src.utils import build_command_file\n",
    "\n",
    "build_command_file.DIRPATH_DATA = DIRPATH_DATA\n",
    "build_command_file.DIRPATH_OUTPUT = dirpath_out_proj\n",
    "build_command_file.N_THREADS = 8\n",
    "\n",
    "build_command_file.DONSUR = 'DONSUR_BU28.txt'  # TODO: generate on the fly\n",
    "build_command_file.LIEN_BU_MTO = 'LIEN_BU28_MTO.txt'\n",
    "build_command_file.LIEN_ELE_BU_CPROD = 'LIEN_ELE_BU_CPROD.txt'\n",
    "\n",
    "\n",
    "# Build command file\n",
    "DIRPATH_COMM = os.path.join(DIRPATH_DATA, 'Cmd_files')\n",
    "path_command_file = os.path.join(DIRPATH_COMM, f'{dirname_out_proj}.COMM')\n",
    "build_command_file.build(path_command_file)\n",
    "\n",
    "print(f'Built command file in path \"{path_command_file}\"')"
   ]
  },
  {
   "cell_type": "code",
   "execution_count": 10,
   "metadata": {},
   "outputs": [
    {
     "name": "stdout",
     "output_type": "stream",
     "text": [
      "~/cawaqs /home/anatole/Documents/DATA_CAWAQS/SEINE_3C/DATA_SEINE_SIMPLE/Cmd_files/TestProj.COMM /home/anatole/Documents/DATA_CAWAQS_OUT/TestProj/TestProj.log\n"
     ]
    }
   ],
   "source": [
    "from src.config import PATH_CAWAQS\n",
    "\n",
    "path_log = os.path.join(dirpath_out_proj, f'{dirname_out_proj}.log')\n",
    "command = f'{PATH_CAWAQS} {path_command_file} {path_log}'\n",
    "# os.system(command)  # TODO: --quiet\n",
    "print(command)"
   ]
  },
  {
   "cell_type": "code",
   "execution_count": 7,
   "metadata": {},
   "outputs": [
    {
     "name": "stdout",
     "output_type": "stream",
     "text": [
      "Simulation complete. Generating CawaqsVis setup file.\n"
     ]
    }
   ],
   "source": [
    "print(f'Simulation complete. Generating CawaqsVis setup file.')"
   ]
  },
  {
   "cell_type": "code",
   "execution_count": null,
   "metadata": {},
   "outputs": [],
   "source": [
    "DIRNAME_POST_PROCESSING = 'POST_PROCESSING'\n",
    "DIRPATH_POST_PROCESSING = os.path.join(dirpath_out_proj, DIRNAME_POST_PROCESSING)\n",
    "\n",
    "# Build the post-processing directory\n",
    "try:\n",
    "    os.makedirs(DIRPATH_POST_PROCESSING)\n",
    "except FileExistsError:\n",
    "    pass"
   ]
  },
  {
   "cell_type": "code",
   "execution_count": null,
   "metadata": {},
   "outputs": [],
   "source": [
    "from src.utils import build_cawaqsviz_config\n",
    "\n",
    "# Define pseudo-global variables\n",
    "build_cawaqsviz_config.DIRPATH_DATA = DIRPATH_DATA\n",
    "build_cawaqsviz_config.DIRPATH_OBS  = DIRPATH_OBS\n",
    "build_cawaqsviz_config.DIRPATH_OUT  = DIRPATH_OUT\n",
    "build_cawaqsviz_config.dirname_out_proj = dirname_out_proj\n",
    "build_cawaqsviz_config.dirpath_out_proj = dirpath_out_proj\n",
    "build_cawaqsviz_config.DIRPATH_POST_PROCESSING = DIRPATH_POST_PROCESSING\n",
    "\n",
    "# Define specific variables\n",
    "path_config_project = os.path.join(dirpath_out_proj, f'config_project_{dirname_out_proj}.json')\n",
    "path_config_geometries = os.path.join(dirpath_out_proj, f'config_geometries_{dirname_out_proj}.json')\n",
    "build_cawaqsviz_config.path_config_project = path_config_project\n",
    "build_cawaqsviz_config.path_config_geometries = path_config_geometries\n",
    "\n",
    "# Build CaWaQSViz config files\n",
    "build_cawaqsviz_config.build()"
   ]
  },
  {
   "cell_type": "code",
   "execution_count": null,
   "metadata": {},
   "outputs": [],
   "source": [
    "print(f'Generation done. Import into CawaqsVis using the project config file located in:\\n{path_config_project}')"
   ]
  },
  {
   "cell_type": "code",
   "execution_count": null,
   "metadata": {},
   "outputs": [],
   "source": []
  },
  {
   "cell_type": "code",
   "execution_count": 21,
   "metadata": {},
   "outputs": [
    {
     "data": {
      "text/plain": [
       "['Urbain1\\t\\t112.9459\\t83.3637\\t0.0000\\t0.7426\\t7.9100E-01\\t20.0000\\t1.0000E+00\\t190.000\\t0.0000\\n',\n",
       " 'Zhum3\\t\\t50.0000\\t\\t10.0000\\t0.0000\\t5.0000\\t2.9100E-01\\t20.0000\\t1.0000E+00\\t30.0000\\t0.0000\\n',\n",
       " 'Agr-All4\\t1.0947\\t\\t0.6469\\t0.0000\\t44.8007\\t7.9300E-01\\t20.0000\\t1.0000E+00\\t30.0000\\t0.0000\\n',\n",
       " 'Agr-Calc5\\t104.6723\\t43.6262\\t0.0000\\t31.6698\\t4.1100E-02\\t90.0000\\t1.0000E+00\\t10.0000\\t0.0000\\n',\n",
       " 'Agr-Arg6\\t135.0000\\t25.0000\\t0.0000\\t5.0000\\t4.2000E-01\\t20.0000\\t1.0000E+00\\t30.0000\\t0.0000\\n',\n",
       " 'Agr-Sab7\\t67.1718\\t\\t17.6808\\t0.0000\\t27.2909\\t2.7600E-01\\t15.0000\\t1.0000E+00\\t30.0000\\t0.0000\\n',\n",
       " 'Agr-Lim8\\t121.5473\\t106.085\\t0.0000\\t3.1403\\t1.4000E-02\\t90.0000\\t1.0000E+00\\t50.0000\\t0.0000\\n',\n",
       " 'Zinfil9\\t\\t42.2229\\t\\t17.3939\\t0.0000\\t34.6102\\t9.5000E-03\\t110.000\\t1.0000E+00\\t10.0000\\t0.0000\\n',\n",
       " 'For-All10\\t95.0000\\t\\t20.0000\\t0.0000\\t8.0000\\t6.5000E-01\\t20.0000\\t1.0000E+00\\t30.0000\\t0.0000\\n',\n",
       " 'For-Calc11\\t131.4247\\t66.5195\\t0.0000\\t3.8789\\t1.0600E-01\\t25.0000\\t1.0000E+00\\t10.0000\\t0.0000\\n',\n",
       " 'For-Arg12\\t130.0000\\t25.0000\\t0.0000\\t5.0000\\t4.2000E-01\\t30.0000\\t1.0000E+00\\t30.0000\\t0.0000\\n',\n",
       " 'For-Sab13\\t70.0000\\t\\t35.0000\\t0.0000\\t10.0000\\t3.2700E-01\\t20.0000\\t1.0000E+00\\t30.0000\\t0.0000\\n',\n",
       " 'For-Lim14\\t132.4049\\t97.4238\\t0.0000\\t3.0683\\t7.9100E-01\\t90.0000\\t1.0000E+00\\t50.0000\\t0.0000\\n',\n",
       " 'Crista15\\t25.0000\\t\\t10.0000\\t0.0000\\t0.1000\\t7.7700E-01\\t40.0000\\t1.0000E+00\\t50.0000\\t0.0000\\n',\n",
       " 'SolUndef6\\t100.0000\\t10.0000\\t0.0000\\t10.0000\\t7.9100E-01\\t20.0000\\t1.0000E+00\\t30.0000\\t0.0000\\n',\n",
       " 'Eaulib17\\t200.0000\\t10.0000\\t0.0000\\t5.0000\\t4.3000E-01\\t20.0000\\t1.0000E+00\\t30.0000\\t0.0000\\n',\n",
       " 'Agr-All-J19\\t1.0947\\t\\t0.6469\\t0.0000\\t19.9117\\t7.9000E-01\\t10.0000\\t1.0000E+00\\t30.0000\\t0.0000\\n',\n",
       " 'Agr-Calc-J20\\t104.6723\\t43.6262\\t0.0000\\t1.5949\\t2.8200E-01\\t90.0000\\t1.0000E+00\\t10.0000\\t0.0000\\n',\n",
       " 'Agr-Arg-J21\\t135.0000\\t25.0000\\t0.0000\\t0.8000\\t3.4100E-01\\t20.0000\\t1.0000E+00\\t30.0000\\t0.0000\\n',\n",
       " 'Agr-Sab-J22\\t67.1718\\t\\t17.6808\\t0.0000\\t0.7468\\t2.3500E-01\\t15.0000\\t1.0000E+00\\t30.0000\\t0.0000\\n',\n",
       " 'Agr-Lim-J23\\t121.5473\\t106.085\\t0.0000\\t0.2271\\t1.5100E-01\\t90.0000\\t1.0000E+00\\t50.0000\\t0.0000\\n',\n",
       " 'Crista1-J24\\t42.2229\\t\\t17.3939\\t0.0000\\t0.1001\\t7.0100E-02\\t160.000\\t1.0000E+00\\t50.0000\\t0.0000\\n',\n",
       " 'For-Allu-J25\\t95.0000\\t\\t20.0000\\t0.0000\\t7.5000\\t5.4900E-01\\t20.0000\\t1.0000E+00\\t30.0000\\t0.0000\\n',\n",
       " 'For-Calc-J26\\t131.4247\\t66.5195\\t0.0000\\t0.1472\\t2.3800E-01\\t25.0000\\t1.0000E+00\\t10.0000\\t0.0000\\n',\n",
       " 'For-Arg-J27\\t130.0000\\t25.0000\\t0.0000\\t2.0000\\t5.0900E-01\\t30.0000\\t1.0000E+00\\t30.0000\\t0.0000\\n',\n",
       " 'For-Sab-J28\\t70.0000\\t\\t35.0000\\t0.0000\\t10.0000\\t7.8400E-01\\t20.0000\\t1.0000E+00\\t30.0000\\t0.0000\\n',\n",
       " 'For-Lim-J29\\t132.4049\\t97.4238\\t0.0000\\t0.6769\\t1.5100E-01\\t90.0000\\t1.0000E+00\\t50.0000\\t0.0000\\n',\n",
       " 'Crista2-J30\\t25.0000\\t\\t10.0000\\t0.0000\\t0.1000\\t7.0100E-02\\t160.000\\t1.0000E+00\\t50.0000\\t0.0000\\n']"
      ]
     },
     "execution_count": 21,
     "metadata": {},
     "output_type": "execute_result"
    }
   ],
   "source": [
    "path_donsur = './data/DONSUR_BU28.txt'\n",
    "with open(path_donsur, 'r', encoding='utf-8') as f:\n",
    "    l = f.readlines()\n",
    "l\n",
    "\n",
    "# [len(lx.split('\\t')) for lx in l]\n",
    "# l[0].split('\\t')"
   ]
  },
  {
   "cell_type": "markdown",
   "metadata": {},
   "source": [
    "## DONSUR tests"
   ]
  },
  {
   "cell_type": "code",
   "execution_count": 34,
   "metadata": {},
   "outputs": [
    {
     "name": "stderr",
     "output_type": "stream",
     "text": [
      "<ipython-input-34-c3130909a62a>:4: ParserWarning: Falling back to the 'python' engine because the 'c' engine does not support regex separators (separators > 1 char and different from '\\s+' are interpreted as regex); you can avoid this warning by specifying engine='python'.\n",
      "  df = pd.read_csv(path_donsur, sep='\\t+', header=None)  # Allowing for pretty-printing separator repeat\n"
     ]
    }
   ],
   "source": [
    "import pandas as pd\n",
    "\n",
    "path_donsur = './data/DONSUR_BU28.txt'\n",
    "df = pd.read_csv(path_donsur, sep='\\t+', header=None)  # Allowing for pretty-printing separator repeat\n",
    "\n",
    "header_list = ['NAME', 'CRT', 'DCRT', 'R', 'FN', 'CQR', 'CQRMAX', 'CQI', 'CQ?', '?']\n",
    "df.columns = header_list"
   ]
  },
  {
   "cell_type": "code",
   "execution_count": 52,
   "metadata": {},
   "outputs": [],
   "source": [
    "# Compute min and max CRT values per FP\n",
    "crt_min = df['DCRT'] + 0.1\n",
    "crt_max = df['DCRT'] + 150.\n",
    "crt_min.name = 'CRT_MIN'\n",
    "crt_max.name = 'CRT_MAX'\n",
    "\n",
    "# Generate CRT samples (linear sampling between crt_min and crt_max)\n",
    "n_samples_per_fp = 10\n",
    "crt_samples = np.linspace(crt_min, crt_max, n_samples_per_fp)"
   ]
  },
  {
   "cell_type": "code",
   "execution_count": 53,
   "metadata": {},
   "outputs": [
    {
     "data": {
      "text/plain": [
       "((28,), (10, 28), (28,))"
      ]
     },
     "execution_count": 53,
     "metadata": {},
     "output_type": "execute_result"
    }
   ],
   "source": [
    "crt_min.shape, crt_samples.shape, crt_samples[0].shape"
   ]
  },
  {
   "cell_type": "code",
   "execution_count": null,
   "metadata": {},
   "outputs": [],
   "source": [
    "\"\"\"\n",
    "Naive method:\n",
    "* Select which FPs to iterate for (in order of importance / surface area --)\n",
    "* Iterate for each; run through CRTs and select best-performing\n",
    "* Retain best CRT and continue\n",
    "\"\"\"\n",
    "\n",
    "# TODO: generate biases programmatically?"
   ]
  }
 ],
 "metadata": {
  "kernelspec": {
   "display_name": "Python 3",
   "language": "python",
   "name": "python3"
  },
  "language_info": {
   "codemirror_mode": {
    "name": "ipython",
    "version": 3
   },
   "file_extension": ".py",
   "mimetype": "text/x-python",
   "name": "python",
   "nbconvert_exporter": "python",
   "pygments_lexer": "ipython3",
   "version": "3.10.12"
  }
 },
 "nbformat": 4,
 "nbformat_minor": 2
}
